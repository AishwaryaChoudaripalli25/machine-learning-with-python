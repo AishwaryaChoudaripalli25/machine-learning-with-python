{
 "cells": [
  {
   "cell_type": "markdown",
   "id": "995fe199",
   "metadata": {},
   "source": [
    "bitwise AND operator "
   ]
  },
  {
   "cell_type": "code",
   "execution_count": 1,
   "id": "3ee3d006",
   "metadata": {},
   "outputs": [
    {
     "name": "stdout",
     "output_type": "stream",
     "text": [
      "12\n"
     ]
    }
   ],
   "source": [
    "a=60\n",
    "b=13\n",
    "c=a&b;\n",
    "print(c)\n"
   ]
  },
  {
   "cell_type": "code",
   "execution_count": 1,
   "id": "298ba142-0e31-4a5a-8040-90f1a461afcb",
   "metadata": {},
   "outputs": [
    {
     "data": {
      "text/plain": [
       "10"
      ]
     },
     "execution_count": 1,
     "metadata": {},
     "output_type": "execute_result"
    }
   ],
   "source": [
    "a=10\n",
    "b=15\n",
    "k=a&b\n",
    "k"
   ]
  },
  {
   "cell_type": "markdown",
   "id": "100f823b",
   "metadata": {},
   "source": [
    "bitwise OR operator"
   ]
  },
  {
   "cell_type": "code",
   "execution_count": 2,
   "id": "87313833",
   "metadata": {},
   "outputs": [
    {
     "name": "stdout",
     "output_type": "stream",
     "text": [
      "61\n"
     ]
    }
   ],
   "source": [
    "a=60\n",
    "b=13\n",
    "c=a|b;\n",
    "print(c)"
   ]
  },
  {
   "cell_type": "markdown",
   "id": "cc48cfbb",
   "metadata": {},
   "source": [
    "bitwise XOR operator"
   ]
  },
  {
   "cell_type": "code",
   "execution_count": 3,
   "id": "a27d0f13",
   "metadata": {},
   "outputs": [
    {
     "name": "stdout",
     "output_type": "stream",
     "text": [
      "49\n"
     ]
    }
   ],
   "source": [
    "a=60\n",
    "b=13\n",
    "c=a^b;\n",
    "print(c)"
   ]
  },
  {
   "cell_type": "markdown",
   "id": "e535e752",
   "metadata": {},
   "source": [
    "NOT"
   ]
  },
  {
   "cell_type": "code",
   "execution_count": 4,
   "id": "870ab444",
   "metadata": {},
   "outputs": [
    {
     "name": "stdout",
     "output_type": "stream",
     "text": [
      "-61\n"
     ]
    }
   ],
   "source": [
    "a=60\n",
    "b=13\n",
    "c=~a;\n",
    "print(c)"
   ]
  },
  {
   "cell_type": "markdown",
   "id": "b6cd60cf",
   "metadata": {},
   "source": [
    "left shift"
   ]
  },
  {
   "cell_type": "code",
   "execution_count": 5,
   "id": "37ea0c2b",
   "metadata": {},
   "outputs": [
    {
     "name": "stdout",
     "output_type": "stream",
     "text": [
      "240\n"
     ]
    }
   ],
   "source": [
    "a=60\n",
    "b=13\n",
    "c=a<<2\n",
    "print(c)"
   ]
  },
  {
   "cell_type": "markdown",
   "id": "4e7d81df",
   "metadata": {},
   "source": [
    "right shift"
   ]
  },
  {
   "cell_type": "code",
   "execution_count": 6,
   "id": "6f9ec132",
   "metadata": {},
   "outputs": [
    {
     "name": "stdout",
     "output_type": "stream",
     "text": [
      "15\n"
     ]
    }
   ],
   "source": [
    "a=60\n",
    "b=13\n",
    "c=a>>2\n",
    "print(c)"
   ]
  },
  {
   "cell_type": "markdown",
   "id": "46f9e2a7",
   "metadata": {},
   "source": [
    "identity operator"
   ]
  },
  {
   "cell_type": "code",
   "execution_count": 7,
   "id": "4f0b10c8",
   "metadata": {},
   "outputs": [
    {
     "name": "stdout",
     "output_type": "stream",
     "text": [
      "False\n",
      "True\n"
     ]
    }
   ],
   "source": [
    "x=100\n",
    "y=200\n",
    "print(x is y)\n",
    "print(x is not y)"
   ]
  },
  {
   "cell_type": "code",
   "execution_count": 8,
   "id": "488c0964",
   "metadata": {},
   "outputs": [
    {
     "name": "stdout",
     "output_type": "stream",
     "text": [
      "False\n",
      "True\n"
     ]
    }
   ],
   "source": [
    "x=800\n",
    "y=800\n",
    "print(x is y)\n",
    "print(x is not y)"
   ]
  },
  {
   "cell_type": "code",
   "execution_count": 9,
   "id": "de838fc4",
   "metadata": {},
   "outputs": [
    {
     "name": "stdout",
     "output_type": "stream",
     "text": [
      "True\n"
     ]
    }
   ],
   "source": [
    "x=[100,200,150]\n",
    "print(100 in x)"
   ]
  },
  {
   "cell_type": "code",
   "execution_count": 10,
   "id": "26ee2e82",
   "metadata": {},
   "outputs": [
    {
     "name": "stdout",
     "output_type": "stream",
     "text": [
      "(10, 15, 'A')\n",
      "15\n"
     ]
    }
   ],
   "source": [
    "t1=(10,15,'A')\n",
    "print(t1)\n",
    "print(t1[1])"
   ]
  },
  {
   "cell_type": "markdown",
   "id": "f802b4a0",
   "metadata": {},
   "source": [
    "if condition"
   ]
  },
  {
   "cell_type": "code",
   "execution_count": 11,
   "id": "ef05ef56",
   "metadata": {},
   "outputs": [
    {
     "name": "stdout",
     "output_type": "stream",
     "text": [
      "100 greater than 10\n"
     ]
    }
   ],
   "source": [
    "a=100\n",
    "b=10\n",
    "if a>b:\n",
    "    print(a,'greater than',b)\n",
    "elif b>a:\n",
    "    print(b,'greater than',a)\n",
    "else:\n",
    "    print(a,'and',b,'are equal')"
   ]
  },
  {
   "cell_type": "code",
   "execution_count": 12,
   "id": "9934e1fc",
   "metadata": {},
   "outputs": [
    {
     "name": "stdout",
     "output_type": "stream",
     "text": [
      "500 greater than 400\n"
     ]
    }
   ],
   "source": [
    "a=500\n",
    "if a<100:\n",
    "    print(a,'less than 100')\n",
    "elif(100<=a<=200):\n",
    "    print(a,'is between 100 and 200')\n",
    "else:\n",
    "    print(a,'greater than 400')"
   ]
  },
  {
   "cell_type": "code",
   "execution_count": 13,
   "id": "f48093fd",
   "metadata": {},
   "outputs": [
    {
     "name": "stdout",
     "output_type": "stream",
     "text": [
      "11 less than 100\n",
      "11 lies between 11 and 99\n"
     ]
    }
   ],
   "source": [
    "a=11\n",
    "if a<100:\n",
    "    print(a,'less than 100')\n",
    "    if (50<=a<=70):\n",
    "        print(a,'lies between 50 and 70')\n",
    "    elif(11<=a<=99):\n",
    "        print(a,'lies between 11 and 99')\n",
    "    else:\n",
    "        print(a,'is less than 20')\n",
    "elif(30<=a<=300):\n",
    "    print(a,'is between 30 and 300')\n",
    "else:\n",
    "    print(a,'greater than 300')"
   ]
  },
  {
   "cell_type": "code",
   "execution_count": 14,
   "id": "8af2f9bb",
   "metadata": {},
   "outputs": [
    {
     "name": "stdout",
     "output_type": "stream",
     "text": [
      "300 is smaller than 500\n",
      "300 is bigger than 500\n"
     ]
    }
   ],
   "source": [
    "a=300\n",
    "b=500\n",
    "if a<b:\n",
    "    print(a,'is smaller than',b)\n",
    "    if 10<=a<=100:\n",
    "        print(a,'is between 10 and 100')\n",
    "    elif a<10:\n",
    "        print(a,'is less than',b)\n",
    "    else:\n",
    "        print(a,'is bigger than',b)"
   ]
  },
  {
   "cell_type": "markdown",
   "id": "5835db87",
   "metadata": {},
   "source": [
    "while loop"
   ]
  },
  {
   "cell_type": "code",
   "execution_count": 15,
   "id": "e262a948",
   "metadata": {},
   "outputs": [
    {
     "name": "stdout",
     "output_type": "stream",
     "text": [
      "the num is 1\n",
      "program end\n",
      "the num is 2\n",
      "program end\n",
      "the num is 3\n",
      "program end\n",
      "the num is 4\n",
      "program end\n",
      "the num is 5\n",
      "program end\n",
      "the num is 6\n",
      "program end\n"
     ]
    }
   ],
   "source": [
    "a=1\n",
    "while a<=6:\n",
    "    print('the num is',a)\n",
    "    a+=1\n",
    "    print(\"program end\")"
   ]
  },
  {
   "cell_type": "code",
   "execution_count": 16,
   "id": "f6826fd5",
   "metadata": {},
   "outputs": [
    {
     "name": "stdout",
     "output_type": "stream",
     "text": [
      "loop start\n",
      "2\n",
      "3\n",
      "4\n",
      "5\n",
      "6\n",
      "7\n",
      "8\n",
      "9\n",
      "loop end\n"
     ]
    }
   ],
   "source": [
    "x=2\n",
    "print('loop start')\n",
    "while x<10:\n",
    "    print(x)\n",
    "    x+=1\n",
    "print('loop end')"
   ]
  },
  {
   "cell_type": "markdown",
   "id": "e03b131e",
   "metadata": {},
   "source": [
    "for loop"
   ]
  },
  {
   "cell_type": "code",
   "execution_count": 17,
   "id": "6e4c2de6",
   "metadata": {
    "scrolled": true
   },
   "outputs": [
    {
     "name": "stdout",
     "output_type": "stream",
     "text": [
      "0\n",
      "1\n",
      "2\n",
      "3\n",
      "happy birthday\n"
     ]
    }
   ],
   "source": [
    "A=[10,15,20,25]\n",
    "for i in range (len(A)):\n",
    "    print(i)\n",
    "print('happy birthday')"
   ]
  },
  {
   "cell_type": "markdown",
   "id": "387a1e94",
   "metadata": {},
   "source": [
    "nested loop"
   ]
  },
  {
   "cell_type": "code",
   "execution_count": 18,
   "id": "235779a8",
   "metadata": {},
   "outputs": [
    {
     "name": "stdout",
     "output_type": "stream",
     "text": [
      "\n",
      "good day\n",
      "1\n",
      "good day\n",
      "22\n",
      "good day\n",
      "333\n",
      "good day\n",
      "4444\n",
      "good day\n",
      "55555\n",
      "good day\n",
      "666666\n",
      "good day\n",
      "7777777\n",
      "good day\n",
      "88888888\n",
      "good day\n",
      "999999999\n",
      "good day\n"
     ]
    }
   ],
   "source": [
    "for i in range(10):\n",
    "    print(str(i)*i)\n",
    "    print('good day')"
   ]
  },
  {
   "cell_type": "code",
   "execution_count": 19,
   "id": "e66d563c",
   "metadata": {},
   "outputs": [
    {
     "name": "stdout",
     "output_type": "stream",
     "text": [
      "pen\n",
      "pencil\n",
      "book\n",
      "toy\n",
      "  school\n",
      "  college\n"
     ]
    }
   ],
   "source": [
    "a=['pen','pencil','book','toy']\n",
    "b=['school','college']\n",
    "for i in a:\n",
    "    print(i)\n",
    "for j in b:\n",
    "    print(\" \",j)"
   ]
  },
  {
   "cell_type": "markdown",
   "id": "a480c649",
   "metadata": {},
   "source": [
    "input parameter"
   ]
  },
  {
   "cell_type": "code",
   "execution_count": 1,
   "id": "c4bc377a",
   "metadata": {},
   "outputs": [
    {
     "name": "stdout",
     "output_type": "stream",
     "text": [
      "enter the value56\n",
      "enter the value76\n",
      "data type no1 <class 'str'>\n",
      "132\n"
     ]
    }
   ],
   "source": [
    "no1=input(\"enter the value\")\n",
    "no2=input(\"enter the value\")\n",
    "print('data type no1',type(no1))\n",
    "no3=int(no1)+int(no2)\n",
    "print(no3)"
   ]
  },
  {
   "cell_type": "markdown",
   "id": "a6d0cb92",
   "metadata": {},
   "source": [
    "#File operations"
   ]
  },
  {
   "cell_type": "markdown",
   "id": "2a6e8684",
   "metadata": {},
   "source": [
    "write file"
   ]
  },
  {
   "cell_type": "code",
   "execution_count": 2,
   "id": "f7b7d2b7",
   "metadata": {},
   "outputs": [
    {
     "name": "stdout",
     "output_type": "stream",
     "text": [
      "start\n",
      "end\n"
     ]
    }
   ],
   "source": [
    "newfile=open(\"sample1.txt\",'w')\n",
    "print('start')\n",
    "for i in range(10):\n",
    "    newfile.write('happy diwali\\n')\n",
    "print('end')\n",
    "newfile.close()"
   ]
  },
  {
   "cell_type": "markdown",
   "id": "de96ffcd",
   "metadata": {},
   "source": [
    "read file"
   ]
  },
  {
   "cell_type": "code",
   "execution_count": 3,
   "id": "a25491f9",
   "metadata": {},
   "outputs": [
    {
     "name": "stdout",
     "output_type": "stream",
     "text": [
      "start\n",
      "happy diwali\n",
      "happy diwali\n",
      "happy diwali\n",
      "happy diwali\n",
      "happy diwali\n",
      "happy diwali\n",
      "happy diwali\n",
      "happy diwali\n",
      "happy diwali\n",
      "happy diwali\n",
      "\n",
      "end\n"
     ]
    }
   ],
   "source": [
    "newfile=open(\"sample1.txt\",'r')\n",
    "print('start')\n",
    "print(newfile.read())\n",
    "print('end')\n",
    "newfile.close()"
   ]
  },
  {
   "cell_type": "markdown",
   "id": "6e21ca2f",
   "metadata": {},
   "source": [
    "close"
   ]
  },
  {
   "cell_type": "code",
   "execution_count": 4,
   "id": "2a5f233e",
   "metadata": {},
   "outputs": [],
   "source": [
    "newfile.close()"
   ]
  },
  {
   "cell_type": "markdown",
   "id": "82d49c49",
   "metadata": {},
   "source": [
    "rename"
   ]
  },
  {
   "cell_type": "code",
   "execution_count": 5,
   "id": "e89f0acb",
   "metadata": {},
   "outputs": [],
   "source": [
    "import os\n",
    "os.rename(\"Sample1.txt\",\"Sample2.txt\")"
   ]
  },
  {
   "cell_type": "markdown",
   "id": "d7d064f6",
   "metadata": {},
   "source": [
    "remove"
   ]
  },
  {
   "cell_type": "code",
   "execution_count": 6,
   "id": "e568b3d4",
   "metadata": {},
   "outputs": [],
   "source": [
    "import os\n",
    "os.remove(\"Sample2.txt\")"
   ]
  },
  {
   "cell_type": "markdown",
   "id": "f638a426",
   "metadata": {},
   "source": [
    "mode"
   ]
  },
  {
   "cell_type": "code",
   "execution_count": 1,
   "id": "93be5f6f",
   "metadata": {},
   "outputs": [
    {
     "ename": "FileNotFoundError",
     "evalue": "[Errno 2] No such file or directory: 'Sample1.txt'",
     "output_type": "error",
     "traceback": [
      "\u001b[1;31m---------------------------------------------------------------------------\u001b[0m",
      "\u001b[1;31mFileNotFoundError\u001b[0m                         Traceback (most recent call last)",
      "Cell \u001b[1;32mIn[1], line 1\u001b[0m\n\u001b[1;32m----> 1\u001b[0m newfile\u001b[38;5;241m=\u001b[39m\u001b[38;5;28mopen\u001b[39m(\u001b[38;5;124m\"\u001b[39m\u001b[38;5;124mSample1.txt\u001b[39m\u001b[38;5;124m\"\u001b[39m,\u001b[38;5;124m\"\u001b[39m\u001b[38;5;124mr\u001b[39m\u001b[38;5;124m\"\u001b[39m)\n\u001b[0;32m      2\u001b[0m \u001b[38;5;28mprint\u001b[39m(newfile\u001b[38;5;241m.\u001b[39mmode)\n",
      "File \u001b[1;32m~\\anaconda3\\Lib\\site-packages\\IPython\\core\\interactiveshell.py:286\u001b[0m, in \u001b[0;36m_modified_open\u001b[1;34m(file, *args, **kwargs)\u001b[0m\n\u001b[0;32m    279\u001b[0m \u001b[38;5;28;01mif\u001b[39;00m file \u001b[38;5;129;01min\u001b[39;00m {\u001b[38;5;241m0\u001b[39m, \u001b[38;5;241m1\u001b[39m, \u001b[38;5;241m2\u001b[39m}:\n\u001b[0;32m    280\u001b[0m     \u001b[38;5;28;01mraise\u001b[39;00m \u001b[38;5;167;01mValueError\u001b[39;00m(\n\u001b[0;32m    281\u001b[0m         \u001b[38;5;124mf\u001b[39m\u001b[38;5;124m\"\u001b[39m\u001b[38;5;124mIPython won\u001b[39m\u001b[38;5;124m'\u001b[39m\u001b[38;5;124mt let you open fd=\u001b[39m\u001b[38;5;132;01m{\u001b[39;00mfile\u001b[38;5;132;01m}\u001b[39;00m\u001b[38;5;124m by default \u001b[39m\u001b[38;5;124m\"\u001b[39m\n\u001b[0;32m    282\u001b[0m         \u001b[38;5;124m\"\u001b[39m\u001b[38;5;124mas it is likely to crash IPython. If you know what you are doing, \u001b[39m\u001b[38;5;124m\"\u001b[39m\n\u001b[0;32m    283\u001b[0m         \u001b[38;5;124m\"\u001b[39m\u001b[38;5;124myou can use builtins\u001b[39m\u001b[38;5;124m'\u001b[39m\u001b[38;5;124m open.\u001b[39m\u001b[38;5;124m\"\u001b[39m\n\u001b[0;32m    284\u001b[0m     )\n\u001b[1;32m--> 286\u001b[0m \u001b[38;5;28;01mreturn\u001b[39;00m io_open(file, \u001b[38;5;241m*\u001b[39margs, \u001b[38;5;241m*\u001b[39m\u001b[38;5;241m*\u001b[39mkwargs)\n",
      "\u001b[1;31mFileNotFoundError\u001b[0m: [Errno 2] No such file or directory: 'Sample1.txt'"
     ]
    }
   ],
   "source": [
    "newfile=open(\"Sample1.txt\",\"r\")\n",
    "print(newfile.mode)"
   ]
  },
  {
   "cell_type": "markdown",
   "id": "39d8ef99",
   "metadata": {},
   "source": [
    "name"
   ]
  },
  {
   "cell_type": "code",
   "execution_count": 2,
   "id": "eb129d62",
   "metadata": {},
   "outputs": [
    {
     "ename": "FileNotFoundError",
     "evalue": "[Errno 2] No such file or directory: 'Sample1.txt'",
     "output_type": "error",
     "traceback": [
      "\u001b[1;31m---------------------------------------------------------------------------\u001b[0m",
      "\u001b[1;31mFileNotFoundError\u001b[0m                         Traceback (most recent call last)",
      "Cell \u001b[1;32mIn[2], line 1\u001b[0m\n\u001b[1;32m----> 1\u001b[0m newfile\u001b[38;5;241m=\u001b[39m\u001b[38;5;28mopen\u001b[39m(\u001b[38;5;124m\"\u001b[39m\u001b[38;5;124mSample1.txt\u001b[39m\u001b[38;5;124m\"\u001b[39m,\u001b[38;5;124m\"\u001b[39m\u001b[38;5;124mr\u001b[39m\u001b[38;5;124m\"\u001b[39m)\n\u001b[0;32m      2\u001b[0m \u001b[38;5;28mprint\u001b[39m(newfile\u001b[38;5;241m.\u001b[39mname)\n",
      "File \u001b[1;32m~\\anaconda3\\Lib\\site-packages\\IPython\\core\\interactiveshell.py:286\u001b[0m, in \u001b[0;36m_modified_open\u001b[1;34m(file, *args, **kwargs)\u001b[0m\n\u001b[0;32m    279\u001b[0m \u001b[38;5;28;01mif\u001b[39;00m file \u001b[38;5;129;01min\u001b[39;00m {\u001b[38;5;241m0\u001b[39m, \u001b[38;5;241m1\u001b[39m, \u001b[38;5;241m2\u001b[39m}:\n\u001b[0;32m    280\u001b[0m     \u001b[38;5;28;01mraise\u001b[39;00m \u001b[38;5;167;01mValueError\u001b[39;00m(\n\u001b[0;32m    281\u001b[0m         \u001b[38;5;124mf\u001b[39m\u001b[38;5;124m\"\u001b[39m\u001b[38;5;124mIPython won\u001b[39m\u001b[38;5;124m'\u001b[39m\u001b[38;5;124mt let you open fd=\u001b[39m\u001b[38;5;132;01m{\u001b[39;00mfile\u001b[38;5;132;01m}\u001b[39;00m\u001b[38;5;124m by default \u001b[39m\u001b[38;5;124m\"\u001b[39m\n\u001b[0;32m    282\u001b[0m         \u001b[38;5;124m\"\u001b[39m\u001b[38;5;124mas it is likely to crash IPython. If you know what you are doing, \u001b[39m\u001b[38;5;124m\"\u001b[39m\n\u001b[0;32m    283\u001b[0m         \u001b[38;5;124m\"\u001b[39m\u001b[38;5;124myou can use builtins\u001b[39m\u001b[38;5;124m'\u001b[39m\u001b[38;5;124m open.\u001b[39m\u001b[38;5;124m\"\u001b[39m\n\u001b[0;32m    284\u001b[0m     )\n\u001b[1;32m--> 286\u001b[0m \u001b[38;5;28;01mreturn\u001b[39;00m io_open(file, \u001b[38;5;241m*\u001b[39margs, \u001b[38;5;241m*\u001b[39m\u001b[38;5;241m*\u001b[39mkwargs)\n",
      "\u001b[1;31mFileNotFoundError\u001b[0m: [Errno 2] No such file or directory: 'Sample1.txt'"
     ]
    }
   ],
   "source": [
    "newfile=open(\"Sample1.txt\",\"r\")\n",
    "print(newfile.name)"
   ]
  },
  {
   "cell_type": "code",
   "execution_count": 3,
   "id": "870c6ddc",
   "metadata": {},
   "outputs": [
    {
     "data": {
      "text/plain": [
       "'55555'"
      ]
     },
     "execution_count": 3,
     "metadata": {},
     "output_type": "execute_result"
    }
   ],
   "source": [
    "str(5)*5"
   ]
  },
  {
   "cell_type": "code",
   "execution_count": 4,
   "id": "092e9603",
   "metadata": {},
   "outputs": [
    {
     "name": "stdout",
     "output_type": "stream",
     "text": [
      "input some comma separated nums: 7,8,9,0 \n",
      "list:  ['7', '8', '9', '0 ']\n",
      "tuple:  ('7', '8', '9', '0 ')\n"
     ]
    }
   ],
   "source": [
    "values=input(\"input some comma separated nums: \")\n",
    "list1=values.split(\",\")\n",
    "tuple1=tuple(list1)\n",
    "print('list: ',list1)\n",
    "print('tuple: ',tuple1)"
   ]
  },
  {
   "cell_type": "code",
   "execution_count": 12,
   "id": "92c8d7a8",
   "metadata": {},
   "outputs": [
    {
     "name": "stdout",
     "output_type": "stream",
     "text": [
      "python version\n",
      "3.11.5 | packaged by Anaconda, Inc. | (main, Sep 11 2023, 13:26:23) [MSC v.1916 64 bit (AMD64)]\n",
      "version info.\n",
      "sys.version_info(major=3, minor=11, micro=5, releaselevel='final', serial=0)\n"
     ]
    }
   ],
   "source": [
    "import sys\n",
    "print(\"python version\")\n",
    "print(sys.version)\n",
    "print(\"version info.\")\n",
    "print(sys.version_info)"
   ]
  },
  {
   "cell_type": "code",
   "execution_count": 13,
   "id": "0ef52273",
   "metadata": {},
   "outputs": [
    {
     "name": "stdout",
     "output_type": "stream",
     "text": [
      "2023-11-18 03:52:41.776125\n"
     ]
    }
   ],
   "source": [
    "import datetime\n",
    "x=datetime.datetime.now()\n",
    "print(x)"
   ]
  },
  {
   "cell_type": "code",
   "execution_count": 14,
   "id": "b6c76c85",
   "metadata": {},
   "outputs": [
    {
     "name": "stdout",
     "output_type": "stream",
     "text": [
      "current date and time: \n",
      "2023-11-18 03:52:42\n"
     ]
    }
   ],
   "source": [
    "import datetime\n",
    "now=datetime.datetime.now()\n",
    "print(\"current date and time: \")\n",
    "print(now.strftime(\"%Y-%m-%d %H:%M:%S\"))"
   ]
  },
  {
   "cell_type": "code",
   "execution_count": 15,
   "id": "c3a3204f",
   "metadata": {},
   "outputs": [
    {
     "name": "stdout",
     "output_type": "stream",
     "text": [
      "input the radius of the circle: 88\n",
      "the area of the circle with radius 88.0 is: 24328.49350939936\n"
     ]
    }
   ],
   "source": [
    "from math import pi\n",
    "r=float(input(\"input the radius of the circle: \"))\n",
    "print(\"the area of the circle with radius \"+str(r)+\" is: \"+str(pi*r**2))"
   ]
  },
  {
   "cell_type": "code",
   "execution_count": 16,
   "id": "85b0b5e2",
   "metadata": {},
   "outputs": [
    {
     "name": "stdout",
     "output_type": "stream",
     "text": [
      "input your first name: Aishwarya\n",
      "input your last name: choudaripalli\n",
      "hello choudaripalli Aishwarya\n"
     ]
    }
   ],
   "source": [
    "fname=input(\"input your first name: \")\n",
    "lname=input(\"input your last name: \")\n",
    "print(\"hello \"+lname+\" \"+fname)"
   ]
  },
  {
   "cell_type": "code",
   "execution_count": 17,
   "id": "afc299ee",
   "metadata": {},
   "outputs": [
    {
     "name": "stdout",
     "output_type": "stream",
     "text": [
      "['hello', 'my name is peter', 'iam from uk']\n"
     ]
    }
   ],
   "source": [
    "txt=\"hello,my name is peter,iam from uk\"\n",
    "x=txt.split(\",\")\n",
    "print(x)"
   ]
  },
  {
   "cell_type": "code",
   "execution_count": 18,
   "id": "3c1d44b2",
   "metadata": {},
   "outputs": [
    {
     "name": "stdout",
     "output_type": "stream",
     "text": [
      "['apple', 'banana', 'cherry', 'orange']\n"
     ]
    }
   ],
   "source": [
    "txt=\"apple#banana#cherry#orange\"\n",
    "x=txt.split('#')\n",
    "print(x)"
   ]
  },
  {
   "cell_type": "code",
   "execution_count": 19,
   "id": "a8c578f3",
   "metadata": {},
   "outputs": [
    {
     "name": "stdout",
     "output_type": "stream",
     "text": [
      "input the filename: python\n",
      "the extension of the file is: 'python'\n"
     ]
    }
   ],
   "source": [
    "filename=input(\"input the filename: \")\n",
    "f_extns=filename.split(\".\")\n",
    "print(\"the extension of the file is: \"+repr(f_extns[-1]))"
   ]
  },
  {
   "cell_type": "code",
   "execution_count": 20,
   "id": "6b2a3a85",
   "metadata": {},
   "outputs": [
    {
     "name": "stdout",
     "output_type": "stream",
     "text": [
      "2023-11-18 03:53:34.557519\n",
      "2023-11-18 03:53:34.557519\n",
      "datetime.datetime(2023, 11, 18, 3, 53, 34, 557519)\n"
     ]
    }
   ],
   "source": [
    "import datetime\n",
    "today=datetime.datetime.now()\n",
    "print(today)\n",
    "print(str(today))\n",
    "print(repr(today))"
   ]
  },
  {
   "cell_type": "code",
   "execution_count": 21,
   "id": "ec0328d6",
   "metadata": {},
   "outputs": [
    {
     "name": "stdout",
     "output_type": "stream",
     "text": [
      "red black\n"
     ]
    }
   ],
   "source": [
    "color_list=['red','green','white','black']\n",
    "color_list=['red','green','white','black']\n",
    "print(\"%s %s\"%(color_list[0],color_list[-1]))"
   ]
  },
  {
   "cell_type": "code",
   "execution_count": 22,
   "id": "b4ae7b09",
   "metadata": {},
   "outputs": [
    {
     "name": "stdout",
     "output_type": "stream",
     "text": [
      "input an integer:44\n",
      "44\n",
      "4444\n",
      "444444\n"
     ]
    }
   ],
   "source": [
    "a=int(input('input an integer:'))\n",
    "n1=int(\"%s\"%a)\n",
    "n2=int(\"%s%s\"%(a,a))\n",
    "n3=int(\"%s%s%s\"%(a,a,a))\n",
    "print(n1)\n",
    "print(n2)\n",
    "print(n3)\n"
   ]
  },
  {
   "cell_type": "code",
   "execution_count": 23,
   "id": "5af4b238",
   "metadata": {},
   "outputs": [
    {
     "name": "stdout",
     "output_type": "stream",
     "text": [
      "the volume of sphere is:  904.3199999999999\n"
     ]
    }
   ],
   "source": [
    "pi=3.14\n",
    "r=6.0\n",
    "v=4.0/3.0*pi*r**3\n",
    "print('the volume of sphere is: ',v)"
   ]
  },
  {
   "cell_type": "code",
   "execution_count": 1,
   "id": "06d02cff",
   "metadata": {},
   "outputs": [
    {
     "name": "stdin",
     "output_type": "stream",
     "text": [
      "input time in seconds:  40000\n"
     ]
    },
    {
     "name": "stdout",
     "output_type": "stream",
     "text": [
      "d:h:m:s->0 days:11 hours:6 minutes:40.0econds\n"
     ]
    }
   ],
   "source": [
    "time=float(input(\"input time in seconds: \"))\n",
    "day=time//(24*3600)\n",
    "time=time%(24*3600)\n",
    "hour=time//3600\n",
    "time%=3600\n",
    "minutes=time//60\n",
    "time%=60\n",
    "seconds=time\n",
    "print(\"d:h:m:s->%d days:%d hours:%d minutes:% seconds\"%(day,hour,minutes,seconds))\n"
   ]
  },
  {
   "cell_type": "code",
   "execution_count": 3,
   "id": "2b1edb6f-78cd-41f3-918f-f609a2455888",
   "metadata": {},
   "outputs": [
    {
     "name": "stdin",
     "output_type": "stream",
     "text": [
      "enter the 1st number for addition:  67.88\n",
      "enter the 2nd number for addition:  88.76\n"
     ]
    },
    {
     "name": "stdout",
     "output_type": "stream",
     "text": [
      "addition of 1st and 2nd numbers is :  i.e., 67.88+88.76=156.64\n"
     ]
    }
   ],
   "source": [
    "a=float(input(\"enter the 1st number for addition: \"))\n",
    "b=float(input(\"enter the 2nd number for addition: \"))\n",
    "sum=a+b\n",
    "print(f\"addition of 1st and 2nd numbers is :  i.e., {a}+{b}={sum}\") "
   ]
  },
  {
   "cell_type": "code",
   "execution_count": null,
   "id": "860f3f56-ede3-4608-bae9-8ef93e529dae",
   "metadata": {},
   "outputs": [],
   "source": [
    "c=float(input(\"enter the 1st number for division: \"))\n",
    "d=float(input(\"enter the 2nd number for division: \"))\n",
    "if d==0:\n",
    "    print(\"as the 2nd number is zero "
   ]
  }
 ],
 "metadata": {
  "kernelspec": {
   "display_name": "Python 3 (ipykernel)",
   "language": "python",
   "name": "python3"
  },
  "language_info": {
   "codemirror_mode": {
    "name": "ipython",
    "version": 3
   },
   "file_extension": ".py",
   "mimetype": "text/x-python",
   "name": "python",
   "nbconvert_exporter": "python",
   "pygments_lexer": "ipython3",
   "version": "3.11.7"
  }
 },
 "nbformat": 4,
 "nbformat_minor": 5
}
