{
 "cells": [
  {
   "cell_type": "markdown",
   "id": "37717d15-a941-4306-b03e-7db82163fb92",
   "metadata": {},
   "source": [
    "## ways of creating array in numpy"
   ]
  },
  {
   "cell_type": "code",
   "execution_count": 2,
   "id": "9d0996f6-1ff8-442d-8bca-f5863e65d492",
   "metadata": {},
   "outputs": [
    {
     "name": "stdout",
     "output_type": "stream",
     "text": [
      "[ 2  4  6  8 10]\n",
      "int32\n"
     ]
    }
   ],
   "source": [
    "from numpy import*\n",
    "x=array([2,4,6,8,10])\n",
    "print(x)\n",
    "print(x.dtype)"
   ]
  },
  {
   "cell_type": "code",
   "execution_count": 3,
   "id": "43b88eec-07e7-441c-b122-eedbc00a1d46",
   "metadata": {},
   "outputs": [
    {
     "name": "stdout",
     "output_type": "stream",
     "text": [
      "[ 2.  4.  6.  8. 10.]\n",
      "float64\n"
     ]
    }
   ],
   "source": [
    "x=array([2,4,6.0,8,10])\n",
    "print(x)\n",
    "print(x.dtype)"
   ]
  },
  {
   "cell_type": "code",
   "execution_count": 5,
   "id": "3b2c7f7a-7b5a-44be-b0b3-64595508e529",
   "metadata": {},
   "outputs": [
    {
     "name": "stdout",
     "output_type": "stream",
     "text": [
      "[ 2.  4.  6.  8. 10.]\n",
      "float64\n"
     ]
    }
   ],
   "source": [
    "x=array([2,4,6,8,10],float)\n",
    "print(x)\n",
    "print(x.dtype)\n"
   ]
  },
  {
   "cell_type": "code",
   "execution_count": 7,
   "id": "73c5d677-cedd-42ce-ab91-566eb86f46b8",
   "metadata": {},
   "outputs": [
    {
     "name": "stdout",
     "output_type": "stream",
     "text": [
      "[ 2.   6.5 11.  15.5 20. ]\n"
     ]
    }
   ],
   "source": [
    "w=linspace(2,20,5)\n",
    "print(w)"
   ]
  },
  {
   "cell_type": "code",
   "execution_count": 9,
   "id": "abee713b-3820-4503-9cf6-5fda48357c50",
   "metadata": {},
   "outputs": [
    {
     "name": "stdout",
     "output_type": "stream",
     "text": [
      "[1.00000000e+01 1.77827941e+03 3.16227766e+05 5.62341325e+07\n",
      " 1.00000000e+10]\n"
     ]
    }
   ],
   "source": [
    "w=logspace(1,10,5)\n",
    "print(w)"
   ]
  },
  {
   "cell_type": "code",
   "execution_count": 11,
   "id": "6f49c047-2713-4ce6-811e-bbdd96f6d214",
   "metadata": {},
   "outputs": [
    {
     "name": "stdout",
     "output_type": "stream",
     "text": [
      "[ 2  5  8 11 14 17]\n"
     ]
    }
   ],
   "source": [
    "k=arange(2,20,3)\n",
    "print(k)"
   ]
  },
  {
   "cell_type": "code",
   "execution_count": 12,
   "id": "4112766b-a407-4ec4-9edb-957056227ae9",
   "metadata": {},
   "outputs": [
    {
     "name": "stdout",
     "output_type": "stream",
     "text": [
      "[0. 0. 0. 0.]\n"
     ]
    }
   ],
   "source": [
    "k=zeros(4)\n",
    "print(k)"
   ]
  },
  {
   "cell_type": "code",
   "execution_count": 13,
   "id": "a1bcdb5d-38c0-472f-8f33-23968b227a0e",
   "metadata": {},
   "outputs": [
    {
     "name": "stdout",
     "output_type": "stream",
     "text": [
      "[1. 1. 1. 1. 1. 1.]\n"
     ]
    }
   ],
   "source": [
    "k=ones(6)\n",
    "print(k)"
   ]
  },
  {
   "cell_type": "code",
   "execution_count": 15,
   "id": "869bc9a3-2d19-4e60-bd0a-9cad67ac14ee",
   "metadata": {},
   "outputs": [
    {
     "name": "stdout",
     "output_type": "stream",
     "text": [
      "[0 0 0 0 0]\n"
     ]
    }
   ],
   "source": [
    "k=zeros(5,int)\n",
    "print(k)"
   ]
  },
  {
   "cell_type": "markdown",
   "id": "628415be-814a-4edf-90d7-a8d54db1394b",
   "metadata": {},
   "source": [
    "## copying in array"
   ]
  },
  {
   "cell_type": "code",
   "execution_count": 17,
   "id": "f7b284fa-ef9b-4c87-9515-0b290e059fe0",
   "metadata": {},
   "outputs": [
    {
     "name": "stdout",
     "output_type": "stream",
     "text": [
      "[ 5  9 13 17]\n"
     ]
    }
   ],
   "source": [
    "from numpy import*\n",
    "A1=array([3,5,7,9])\n",
    "A2=array([2,4,6,8])\n",
    "A3=A1+A2\n",
    "print(A3)"
   ]
  },
  {
   "cell_type": "code",
   "execution_count": 19,
   "id": "68a4be11-b520-44b7-b576-1d72f8fc8c25",
   "metadata": {},
   "outputs": [
    {
     "name": "stdout",
     "output_type": "stream",
     "text": [
      "[ 3  5  7  9  5  9 13 17]\n"
     ]
    }
   ],
   "source": [
    "print(concatenate([A1,A3]))"
   ]
  },
  {
   "cell_type": "code",
   "execution_count": 20,
   "id": "cc73fc86-5ad2-4f17-804b-331bd0fa8026",
   "metadata": {},
   "outputs": [
    {
     "name": "stdout",
     "output_type": "stream",
     "text": [
      "[ 0.14112001 -0.95892427  0.6569866   0.41211849]\n"
     ]
    }
   ],
   "source": [
    "print(sin(A1))"
   ]
  },
  {
   "cell_type": "code",
   "execution_count": 21,
   "id": "b3b5f4f9-f1bb-4c3b-9d4e-863a11140eb0",
   "metadata": {},
   "outputs": [
    {
     "name": "stdout",
     "output_type": "stream",
     "text": [
      "[1.09861229 1.60943791 1.94591015 2.19722458]\n"
     ]
    }
   ],
   "source": [
    "print(log(A1))\n"
   ]
  },
  {
   "cell_type": "code",
   "execution_count": 22,
   "id": "226fc234-1ec8-4a0f-9c9c-125b9469e454",
   "metadata": {},
   "outputs": [
    {
     "name": "stdout",
     "output_type": "stream",
     "text": [
      "[-0.9899925   0.28366219  0.75390225 -0.91113026]\n"
     ]
    }
   ],
   "source": [
    "print(cos(A1))"
   ]
  },
  {
   "cell_type": "code",
   "execution_count": 25,
   "id": "d1c3498d-7b6f-4ce9-98e9-5495fdaa521a",
   "metadata": {},
   "outputs": [
    {
     "name": "stdout",
     "output_type": "stream",
     "text": [
      "24\n"
     ]
    }
   ],
   "source": [
    "print(sum(A1))"
   ]
  },
  {
   "cell_type": "code",
   "execution_count": 26,
   "id": "b4b26530-7004-4b18-8261-a1db9e8d0c6b",
   "metadata": {},
   "outputs": [
    {
     "name": "stdout",
     "output_type": "stream",
     "text": [
      "3\n"
     ]
    }
   ],
   "source": [
    "print(min(A1))"
   ]
  },
  {
   "cell_type": "code",
   "execution_count": 27,
   "id": "26a62609-1159-430c-bc49-53e17d2e0080",
   "metadata": {},
   "outputs": [
    {
     "name": "stdout",
     "output_type": "stream",
     "text": [
      "8\n"
     ]
    }
   ],
   "source": [
    "print(max(A2))"
   ]
  },
  {
   "cell_type": "code",
   "execution_count": 30,
   "id": "1ab1f34d-8704-40b4-8a33-1f392895d92a",
   "metadata": {},
   "outputs": [
    {
     "name": "stdout",
     "output_type": "stream",
     "text": [
      "[4 5 6 7]\n",
      "[4 5 6 7]\n",
      "1887077458320\n",
      "1887077458320\n"
     ]
    }
   ],
   "source": [
    "A1=array([4,5,6,7])\n",
    "A2=A1\n",
    "print(A1)\n",
    "print(A2)\n",
    "print(id(A1))\n",
    "print(id(A2))"
   ]
  },
  {
   "cell_type": "markdown",
   "id": "3a4769c5-cb7a-490b-9f6a-057c36335ec6",
   "metadata": {},
   "source": [
    "## swallow copy"
   ]
  },
  {
   "cell_type": "code",
   "execution_count": 32,
   "id": "370c5a61-049f-4ea6-8b75-360328d256e3",
   "metadata": {},
   "outputs": [
    {
     "name": "stdout",
     "output_type": "stream",
     "text": [
      "[4 9 6 7]\n",
      "[4 9 6 7]\n",
      "1887077458320\n",
      "1887077650608\n"
     ]
    }
   ],
   "source": [
    "A2=A1.view()\n",
    "A1[1]=9\n",
    "print(A1)\n",
    "print(A2)\n",
    "print(id(A1))\n",
    "print(id(A2))"
   ]
  },
  {
   "cell_type": "markdown",
   "id": "664ee5b4-2a2b-4a16-9f59-e0a7a18b6396",
   "metadata": {},
   "source": [
    "## deep copy"
   ]
  },
  {
   "cell_type": "code",
   "execution_count": 33,
   "id": "5bb3e953-10d3-45df-b478-9db1e745cfe8",
   "metadata": {},
   "outputs": [
    {
     "name": "stdout",
     "output_type": "stream",
     "text": [
      "[4 9 6 7]\n",
      "[4 9 6 7]\n",
      "1887077458320\n",
      "1887059797136\n"
     ]
    }
   ],
   "source": [
    "A2=A1.copy()\n",
    "A1[1]=9\n",
    "print(A1)\n",
    "print(A2)\n",
    "print(id(A1))\n",
    "print(id(A2))"
   ]
  },
  {
   "cell_type": "code",
   "execution_count": null,
   "id": "fcfd3ed4-4f87-4e89-9de2-5239a57587d9",
   "metadata": {},
   "outputs": [],
   "source": []
  }
 ],
 "metadata": {
  "kernelspec": {
   "display_name": "Python 3 (ipykernel)",
   "language": "python",
   "name": "python3"
  },
  "language_info": {
   "codemirror_mode": {
    "name": "ipython",
    "version": 3
   },
   "file_extension": ".py",
   "mimetype": "text/x-python",
   "name": "python",
   "nbconvert_exporter": "python",
   "pygments_lexer": "ipython3",
   "version": "3.11.7"
  }
 },
 "nbformat": 4,
 "nbformat_minor": 5
}
