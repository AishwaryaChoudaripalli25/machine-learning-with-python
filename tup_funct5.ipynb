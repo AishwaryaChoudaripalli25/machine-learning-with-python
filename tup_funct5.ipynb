{
 "cells": [
  {
   "cell_type": "markdown",
   "id": "f970f54e",
   "metadata": {},
   "source": [
    "# tuple"
   ]
  },
  {
   "cell_type": "markdown",
   "id": "05416f82",
   "metadata": {},
   "source": [
    "### length of tuple inside list"
   ]
  },
  {
   "cell_type": "code",
   "execution_count": 1,
   "id": "558d45a1",
   "metadata": {},
   "outputs": [
    {
     "name": "stdout",
     "output_type": "stream",
     "text": [
      "[(1, 3, 6), ('a', 'b', 'c')]\n",
      "2\n",
      "3\n"
     ]
    }
   ],
   "source": [
    "list2=[(1,3,6),('a','b','c')]\n",
    "print(list2)\n",
    "print(len(list2))\n",
    "print(len(list2[1]))"
   ]
  },
  {
   "cell_type": "markdown",
   "id": "22f4d040",
   "metadata": {},
   "source": [
    "### tuple based on ascii value"
   ]
  },
  {
   "cell_type": "code",
   "execution_count": 2,
   "id": "78905279",
   "metadata": {},
   "outputs": [
    {
     "name": "stdout",
     "output_type": "stream",
     "text": [
      "6\n",
      "H\n",
      "k\n"
     ]
    }
   ],
   "source": [
    "tup1=(1,2,3,'a','d','g')\n",
    "tup2=('f','H','k','O')\n",
    "print(len(tup1))\n",
    "print(min(tup2))\n",
    "print(max(tup2))"
   ]
  },
  {
   "cell_type": "markdown",
   "id": "0ca1db4b",
   "metadata": {},
   "source": [
    "### multiplication"
   ]
  },
  {
   "cell_type": "code",
   "execution_count": 3,
   "id": "9bb25598",
   "metadata": {},
   "outputs": [
    {
     "name": "stdout",
     "output_type": "stream",
     "text": [
      "(1, 2, 4, 5, 'y', 'm', 'g', 1, 2, 4, 5, 'y', 'm', 'g', 1, 2, 4, 5, 'y', 'm', 'g', 1, 2, 4, 5, 'y', 'm', 'g')\n",
      "True\n"
     ]
    }
   ],
   "source": [
    "tup1=(1,2,4,5,'y','m','g')\n",
    "print(tup1*4)\n",
    "print('y' in tup1)"
   ]
  },
  {
   "cell_type": "markdown",
   "id": "c656bc92",
   "metadata": {},
   "source": [
    "### multiply one element"
   ]
  },
  {
   "cell_type": "code",
   "execution_count": 4,
   "id": "277e6318",
   "metadata": {},
   "outputs": [
    {
     "name": "stdout",
     "output_type": "stream",
     "text": [
      "(7, 8, 8, 9, 8, 9, 8, 9, 8, 9, 8, 9)\n"
     ]
    }
   ],
   "source": [
    "t1=(7,8,9)\n",
    "t5=t1[:2]\n",
    "t3=t1[1:]*5\n",
    "t1=t5+t3\n",
    "print(t1)"
   ]
  },
  {
   "cell_type": "markdown",
   "id": "6be0ef78",
   "metadata": {},
   "source": [
    "### del tuple"
   ]
  },
  {
   "cell_type": "code",
   "execution_count": 5,
   "id": "3f1fc2db",
   "metadata": {},
   "outputs": [
    {
     "name": "stdout",
     "output_type": "stream",
     "text": [
      "(5, 6, 7, 3, 4, 5)\n",
      "(3, 4, 5)\n"
     ]
    }
   ],
   "source": [
    "tup1=(5,6,7)\n",
    "tup2=(3,4,5)\n",
    "t3=tup1+tup2\n",
    "print(t3)\n",
    "print(tup2)"
   ]
  },
  {
   "cell_type": "code",
   "execution_count": 6,
   "id": "18bbc1b4",
   "metadata": {},
   "outputs": [
    {
     "ename": "NameError",
     "evalue": "name 'tup2' is not defined",
     "output_type": "error",
     "traceback": [
      "\u001b[1;31m---------------------------------------------------------------------------\u001b[0m",
      "\u001b[1;31mNameError\u001b[0m                                 Traceback (most recent call last)",
      "Cell \u001b[1;32mIn[6], line 2\u001b[0m\n\u001b[0;32m      1\u001b[0m \u001b[38;5;28;01mdel\u001b[39;00m(tup2)\n\u001b[1;32m----> 2\u001b[0m \u001b[38;5;28mprint\u001b[39m(tup2)\n",
      "\u001b[1;31mNameError\u001b[0m: name 'tup2' is not defined"
     ]
    }
   ],
   "source": [
    "del(tup2)\n",
    "print(tup2)"
   ]
  },
  {
   "cell_type": "markdown",
   "id": "accbfad4",
   "metadata": {},
   "source": [
    "### update list inside tuple"
   ]
  },
  {
   "cell_type": "code",
   "execution_count": 7,
   "id": "9748ceef",
   "metadata": {},
   "outputs": [
    {
     "name": "stdout",
     "output_type": "stream",
     "text": [
      "([1, 3, 4], [7, 8, 9, 0], 5, 6)\n",
      "<class 'tuple'>\n",
      "<class 'list'>\n"
     ]
    },
    {
     "ename": "TypeError",
     "evalue": "'tuple' object does not support item assignment",
     "output_type": "error",
     "traceback": [
      "\u001b[1;31m---------------------------------------------------------------------------\u001b[0m",
      "\u001b[1;31mTypeError\u001b[0m                                 Traceback (most recent call last)",
      "Cell \u001b[1;32mIn[7], line 5\u001b[0m\n\u001b[0;32m      3\u001b[0m \u001b[38;5;28mprint\u001b[39m(\u001b[38;5;28mtype\u001b[39m(tup2))\n\u001b[0;32m      4\u001b[0m \u001b[38;5;28mprint\u001b[39m(\u001b[38;5;28mtype\u001b[39m(tup2[\u001b[38;5;241m0\u001b[39m]))\n\u001b[1;32m----> 5\u001b[0m tup2[\u001b[38;5;241m1\u001b[39m]\u001b[38;5;241m=\u001b[39m[\u001b[38;5;241m10\u001b[39m,\u001b[38;5;241m11\u001b[39m,\u001b[38;5;241m12\u001b[39m]\n\u001b[0;32m      6\u001b[0m tup2[\u001b[38;5;241m1\u001b[39m][\u001b[38;5;241m1\u001b[39m]\u001b[38;5;241m=\u001b[39m[\u001b[38;5;241m10\u001b[39m,\u001b[38;5;241m11\u001b[39m,\u001b[38;5;241m12\u001b[39m]\n\u001b[0;32m      7\u001b[0m \u001b[38;5;28mprint\u001b[39m(tup2)\n",
      "\u001b[1;31mTypeError\u001b[0m: 'tuple' object does not support item assignment"
     ]
    }
   ],
   "source": [
    "tup2=([1,3,4],[7,8,9,0],5,6)\n",
    "print(tup2)\n",
    "print(type(tup2))\n",
    "print(type(tup2[0]))\n",
    "tup2[1]=[10,11,12]\n",
    "tup2[1][1]=[10,11,12]\n",
    "print(tup2)"
   ]
  },
  {
   "cell_type": "markdown",
   "id": "a5ec0b7f",
   "metadata": {},
   "source": [
    "### convert list to tuple"
   ]
  },
  {
   "cell_type": "code",
   "execution_count": 8,
   "id": "44a3ffc5",
   "metadata": {},
   "outputs": [
    {
     "name": "stdout",
     "output_type": "stream",
     "text": [
      "(10, 8, 9)\n",
      "[10, 8, 9]\n",
      "(10, 8, 9)\n"
     ]
    }
   ],
   "source": [
    "t1=(10,8,9)\n",
    "l1=list(t1)\n",
    "t2=tuple(l1)\n",
    "print(t1)\n",
    "print(l1)\n",
    "print(t2)"
   ]
  },
  {
   "cell_type": "markdown",
   "id": "0ec99f7e",
   "metadata": {},
   "source": [
    "# functions"
   ]
  },
  {
   "cell_type": "code",
   "execution_count": 9,
   "id": "260e4951",
   "metadata": {},
   "outputs": [],
   "source": [
    "def sales():\n",
    "    total_sales=400*10\n",
    "    print(total_sales)"
   ]
  },
  {
   "cell_type": "code",
   "execution_count": 10,
   "id": "64c08416",
   "metadata": {},
   "outputs": [
    {
     "name": "stdout",
     "output_type": "stream",
     "text": [
      "4000\n"
     ]
    }
   ],
   "source": [
    "sales()"
   ]
  },
  {
   "cell_type": "code",
   "execution_count": 11,
   "id": "516b9d12",
   "metadata": {},
   "outputs": [],
   "source": [
    "def sales(Qty):\n",
    "    Total_sales=Qty*100\n",
    "    print(Total_sales)"
   ]
  },
  {
   "cell_type": "code",
   "execution_count": 12,
   "id": "41571702",
   "metadata": {},
   "outputs": [
    {
     "name": "stdout",
     "output_type": "stream",
     "text": [
      "6000\n"
     ]
    }
   ],
   "source": [
    "sales(60)"
   ]
  },
  {
   "cell_type": "code",
   "execution_count": 13,
   "id": "23245246",
   "metadata": {},
   "outputs": [],
   "source": [
    "def sales(Qty,Prc):\n",
    "    Total_sales=Qty*Prc\n",
    "    print(Total_sales)"
   ]
  },
  {
   "cell_type": "code",
   "execution_count": 14,
   "id": "142acb27",
   "metadata": {},
   "outputs": [
    {
     "name": "stdout",
     "output_type": "stream",
     "text": [
      "4500\n",
      "8712\n"
     ]
    }
   ],
   "source": [
    "sales(50,90)\n",
    "sales(99,88)"
   ]
  },
  {
   "cell_type": "code",
   "execution_count": 15,
   "id": "5f66ea31",
   "metadata": {},
   "outputs": [],
   "source": [
    "def sales(Qty,Prc=60):\n",
    "    Total_sales=Qty*Prc\n",
    "    print(Total_sales)"
   ]
  },
  {
   "cell_type": "code",
   "execution_count": 16,
   "id": "0f7a4704",
   "metadata": {},
   "outputs": [
    {
     "name": "stdout",
     "output_type": "stream",
     "text": [
      "4740\n"
     ]
    }
   ],
   "source": [
    "sales(79)"
   ]
  },
  {
   "cell_type": "code",
   "execution_count": 17,
   "id": "665eead8",
   "metadata": {},
   "outputs": [],
   "source": [
    "def sales(qty=80,prc=90):\n",
    "    Total_sales=qty*prc\n",
    "    print(Total_sales)"
   ]
  },
  {
   "cell_type": "code",
   "execution_count": 18,
   "id": "6d63c455",
   "metadata": {},
   "outputs": [
    {
     "name": "stdout",
     "output_type": "stream",
     "text": [
      "7200\n"
     ]
    }
   ],
   "source": [
    "sales()"
   ]
  },
  {
   "cell_type": "code",
   "execution_count": 19,
   "id": "c049bce9",
   "metadata": {},
   "outputs": [
    {
     "name": "stdout",
     "output_type": "stream",
     "text": [
      "5400\n"
     ]
    }
   ],
   "source": [
    "sales(60)"
   ]
  },
  {
   "cell_type": "code",
   "execution_count": 20,
   "id": "8ea929b9",
   "metadata": {},
   "outputs": [
    {
     "name": "stdout",
     "output_type": "stream",
     "text": [
      "5600\n"
     ]
    }
   ],
   "source": [
    "sales(70,80)"
   ]
  },
  {
   "cell_type": "code",
   "execution_count": 21,
   "id": "80f59124",
   "metadata": {},
   "outputs": [
    {
     "name": "stdout",
     "output_type": "stream",
     "text": [
      "4000\n"
     ]
    }
   ],
   "source": [
    "sales(prc=50)"
   ]
  },
  {
   "cell_type": "code",
   "execution_count": 22,
   "id": "4334f972",
   "metadata": {},
   "outputs": [
    {
     "name": "stdout",
     "output_type": "stream",
     "text": [
      "7200\n",
      "None\n"
     ]
    }
   ],
   "source": [
    "s1=sales()\n",
    "print(s1)"
   ]
  },
  {
   "cell_type": "code",
   "execution_count": 23,
   "id": "d93c119c",
   "metadata": {},
   "outputs": [
    {
     "name": "stdout",
     "output_type": "stream",
     "text": [
      "None\n"
     ]
    }
   ],
   "source": [
    "print(s1)"
   ]
  },
  {
   "cell_type": "code",
   "execution_count": 24,
   "id": "c04c5552",
   "metadata": {},
   "outputs": [
    {
     "name": "stdout",
     "output_type": "stream",
     "text": [
      "518\n",
      "None\n"
     ]
    }
   ],
   "source": [
    "s2=sales(14,37)\n",
    "print(s2)"
   ]
  },
  {
   "cell_type": "code",
   "execution_count": 25,
   "id": "fcb857d3",
   "metadata": {},
   "outputs": [
    {
     "name": "stdout",
     "output_type": "stream",
     "text": [
      "None\n"
     ]
    }
   ],
   "source": [
    "print(s2)"
   ]
  },
  {
   "cell_type": "code",
   "execution_count": 26,
   "id": "47497997",
   "metadata": {},
   "outputs": [],
   "source": [
    "def sales(qty=88,prc=99):\n",
    "    amt=qty*prc\n",
    "    print(amt)\n",
    "    return(amt)"
   ]
  },
  {
   "cell_type": "code",
   "execution_count": 27,
   "id": "0cb0400a",
   "metadata": {},
   "outputs": [
    {
     "name": "stdout",
     "output_type": "stream",
     "text": [
      "8712\n"
     ]
    },
    {
     "data": {
      "text/plain": [
       "8712"
      ]
     },
     "execution_count": 27,
     "metadata": {},
     "output_type": "execute_result"
    }
   ],
   "source": [
    "sales()"
   ]
  },
  {
   "cell_type": "code",
   "execution_count": 28,
   "id": "c4ba4aac",
   "metadata": {},
   "outputs": [],
   "source": [
    "def sales(qty=55,prc=45):\n",
    "    amt=qty*prc\n",
    "    print(amt)\n",
    "    return(amt)\n",
    "    print(qty)\n",
    "    print(prc)"
   ]
  },
  {
   "cell_type": "code",
   "execution_count": 29,
   "id": "51f774f2",
   "metadata": {},
   "outputs": [
    {
     "name": "stdout",
     "output_type": "stream",
     "text": [
      "2475\n"
     ]
    },
    {
     "data": {
      "text/plain": [
       "2475"
      ]
     },
     "execution_count": 29,
     "metadata": {},
     "output_type": "execute_result"
    }
   ],
   "source": [
    "sales()"
   ]
  },
  {
   "cell_type": "code",
   "execution_count": 30,
   "id": "61c68bbf",
   "metadata": {},
   "outputs": [
    {
     "name": "stdout",
     "output_type": "stream",
     "text": [
      "1750\n",
      "1750\n"
     ]
    }
   ],
   "source": [
    "s2=sales(25,70)\n",
    "print(s2)"
   ]
  },
  {
   "cell_type": "code",
   "execution_count": 31,
   "id": "4800a644",
   "metadata": {},
   "outputs": [],
   "source": [
    "def financials(revenue,expenses):\n",
    "    #this function is used to calculate profit and profit ratio\n",
    "    profit=revenue-expenses\n",
    "    profit_ratio=profit/expenses\n",
    "    new_financials=(profit,profit_ratio)\n",
    "    return(new_financials)"
   ]
  },
  {
   "cell_type": "code",
   "execution_count": 32,
   "id": "528a1e72",
   "metadata": {},
   "outputs": [
    {
     "data": {
      "text/plain": [
       "(8000, 4.0)"
      ]
     },
     "execution_count": 32,
     "metadata": {},
     "output_type": "execute_result"
    }
   ],
   "source": [
    "financials(10000,2000)"
   ]
  },
  {
   "cell_type": "code",
   "execution_count": 33,
   "id": "1c2b8d68",
   "metadata": {},
   "outputs": [],
   "source": [
    "def converto(deg):\n",
    "    f=(deg*9/5)+32\n",
    "    return(f)"
   ]
  },
  {
   "cell_type": "code",
   "execution_count": 34,
   "id": "978bf8df",
   "metadata": {},
   "outputs": [
    {
     "name": "stdout",
     "output_type": "stream",
     "text": [
      "104.0\n"
     ]
    }
   ],
   "source": [
    "temp=40\n",
    "temp=converto(temp)\n",
    "print(temp)"
   ]
  },
  {
   "cell_type": "code",
   "execution_count": 35,
   "id": "404c1810",
   "metadata": {},
   "outputs": [
    {
     "data": {
      "text/plain": [
       "107.6"
      ]
     },
     "execution_count": 35,
     "metadata": {},
     "output_type": "execute_result"
    }
   ],
   "source": [
    "converto(42)"
   ]
  },
  {
   "cell_type": "markdown",
   "id": "76048a8b",
   "metadata": {},
   "source": [
    "# user input"
   ]
  },
  {
   "cell_type": "code",
   "execution_count": 36,
   "id": "6e87fc59",
   "metadata": {},
   "outputs": [],
   "source": [
    "def financials(revenue):\n",
    "    expenses=int(input('enter expense'))\n",
    "    profit=revenue-expenses\n",
    "    profit_ratio=profit/revenue\n",
    "    new_financials=(profit,profit_ratio)\n",
    "    return(new_financials)"
   ]
  },
  {
   "cell_type": "code",
   "execution_count": 39,
   "id": "654b8acd",
   "metadata": {},
   "outputs": [
    {
     "name": "stdout",
     "output_type": "stream",
     "text": [
      "enter expense60000\n"
     ]
    },
    {
     "data": {
      "text/plain": [
       "(-55000, -11.0)"
      ]
     },
     "execution_count": 39,
     "metadata": {},
     "output_type": "execute_result"
    }
   ],
   "source": [
    "financials(5000)"
   ]
  },
  {
   "cell_type": "code",
   "execution_count": 38,
   "id": "6f683827",
   "metadata": {},
   "outputs": [
    {
     "name": "stdout",
     "output_type": "stream",
     "text": [
      "enter revenue7000\n",
      "enter expense5500\n"
     ]
    },
    {
     "data": {
      "text/plain": [
       "(1500, 0.21428571428571427)"
      ]
     },
     "execution_count": 38,
     "metadata": {},
     "output_type": "execute_result"
    }
   ],
   "source": [
    "financials(int(input('enter revenue')))"
   ]
  },
  {
   "cell_type": "code",
   "execution_count": null,
   "id": "ec0fbdff",
   "metadata": {},
   "outputs": [],
   "source": []
  }
 ],
 "metadata": {
  "kernelspec": {
   "display_name": "Python 3 (ipykernel)",
   "language": "python",
   "name": "python3"
  },
  "language_info": {
   "codemirror_mode": {
    "name": "ipython",
    "version": 3
   },
   "file_extension": ".py",
   "mimetype": "text/x-python",
   "name": "python",
   "nbconvert_exporter": "python",
   "pygments_lexer": "ipython3",
   "version": "3.11.7"
  }
 },
 "nbformat": 4,
 "nbformat_minor": 5
}
