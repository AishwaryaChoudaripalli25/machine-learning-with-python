{
 "cells": [
  {
   "cell_type": "markdown",
   "id": "29c56489",
   "metadata": {},
   "source": [
    "# string operations"
   ]
  },
  {
   "cell_type": "code",
   "execution_count": 19,
   "id": "b62f302b",
   "metadata": {},
   "outputs": [
    {
     "name": "stdout",
     "output_type": "stream",
     "text": [
      "8\n",
      "nice day\n"
     ]
    }
   ],
   "source": [
    "x='nice day'\n",
    "print(len(x))\n",
    "print(x)"
   ]
  },
  {
   "cell_type": "code",
   "execution_count": 20,
   "id": "13b1adc1",
   "metadata": {},
   "outputs": [
    {
     "data": {
      "text/plain": [
       "' '"
      ]
     },
     "execution_count": 20,
     "metadata": {},
     "output_type": "execute_result"
    }
   ],
   "source": [
    "x[4]"
   ]
  },
  {
   "cell_type": "code",
   "execution_count": 21,
   "id": "b2fb9db1",
   "metadata": {},
   "outputs": [
    {
     "data": {
      "text/plain": [
       "'nice '"
      ]
     },
     "execution_count": 21,
     "metadata": {},
     "output_type": "execute_result"
    }
   ],
   "source": [
    "x[0:5]"
   ]
  },
  {
   "cell_type": "code",
   "execution_count": 22,
   "id": "79c1ff9b",
   "metadata": {},
   "outputs": [
    {
     "data": {
      "text/plain": [
       "'y'"
      ]
     },
     "execution_count": 22,
     "metadata": {},
     "output_type": "execute_result"
    }
   ],
   "source": [
    "x[-1]"
   ]
  },
  {
   "cell_type": "code",
   "execution_count": 23,
   "id": "8cd3eebc",
   "metadata": {},
   "outputs": [
    {
     "name": "stdout",
     "output_type": "stream",
     "text": [
      "False\n"
     ]
    }
   ],
   "source": [
    "print('o' in x)"
   ]
  },
  {
   "cell_type": "code",
   "execution_count": 24,
   "id": "88cef81a",
   "metadata": {},
   "outputs": [
    {
     "name": "stdout",
     "output_type": "stream",
     "text": [
      "True\n"
     ]
    }
   ],
   "source": [
    "print('n'in x)"
   ]
  },
  {
   "cell_type": "code",
   "execution_count": 25,
   "id": "c58b6f61",
   "metadata": {},
   "outputs": [
    {
     "name": "stdout",
     "output_type": "stream",
     "text": [
      "hey you know python learning duration is 30 days\n"
     ]
    }
   ],
   "source": [
    "a='python'\n",
    "b='learning'\n",
    "duration_days= 30\n",
    "print('hey you know %s %s duration is %d days'%(a,b,duration_days))"
   ]
  },
  {
   "cell_type": "code",
   "execution_count": 26,
   "id": "df0a3b63",
   "metadata": {},
   "outputs": [
    {
     "name": "stdout",
     "output_type": "stream",
     "text": [
      "aishaish\n"
     ]
    }
   ],
   "source": [
    "a='aish'\n",
    "print(a*2)"
   ]
  },
  {
   "cell_type": "code",
   "execution_count": 27,
   "id": "dfe4644f",
   "metadata": {},
   "outputs": [
    {
     "name": "stdout",
     "output_type": "stream",
     "text": [
      "aish arts\n"
     ]
    }
   ],
   "source": [
    "aa=a[0:10]+ ' arts'\n",
    "print(aa)"
   ]
  },
  {
   "cell_type": "code",
   "execution_count": 28,
   "id": "71a79ff0",
   "metadata": {},
   "outputs": [
    {
     "data": {
      "text/plain": [
       "'wonderful Dress'"
      ]
     },
     "execution_count": 28,
     "metadata": {},
     "output_type": "execute_result"
    }
   ],
   "source": [
    "str='wonderful Dress'\n",
    "str"
   ]
  },
  {
   "cell_type": "code",
   "execution_count": 29,
   "id": "309e62f4",
   "metadata": {},
   "outputs": [
    {
     "name": "stdout",
     "output_type": "stream",
     "text": [
      "3\n"
     ]
    }
   ],
   "source": [
    "print(str.find('d'))"
   ]
  },
  {
   "cell_type": "code",
   "execution_count": 30,
   "id": "5113118f",
   "metadata": {},
   "outputs": [
    {
     "name": "stdout",
     "output_type": "stream",
     "text": [
      "10\n"
     ]
    }
   ],
   "source": [
    "print(str.find('D'))"
   ]
  },
  {
   "cell_type": "code",
   "execution_count": 31,
   "id": "baddd012",
   "metadata": {},
   "outputs": [
    {
     "name": "stdout",
     "output_type": "stream",
     "text": [
      "3\n"
     ]
    }
   ],
   "source": [
    "s3='wonDerful Dress'\n",
    "print(s3.find('D'))"
   ]
  },
  {
   "cell_type": "code",
   "execution_count": 32,
   "id": "c9af7acd",
   "metadata": {},
   "outputs": [
    {
     "name": "stdout",
     "output_type": "stream",
     "text": [
      "10\n"
     ]
    }
   ],
   "source": [
    "print(s3.find('Dr'))"
   ]
  },
  {
   "cell_type": "code",
   "execution_count": 33,
   "id": "2fe5f4d3",
   "metadata": {},
   "outputs": [
    {
     "name": "stdout",
     "output_type": "stream",
     "text": [
      "['f', 'r', 'i', 'e', 'n', 'd', 's']\n"
     ]
    }
   ],
   "source": [
    "x=list('friends')\n",
    "print(x)"
   ]
  },
  {
   "cell_type": "markdown",
   "id": "c519850c",
   "metadata": {},
   "source": [
    "### set"
   ]
  },
  {
   "cell_type": "code",
   "execution_count": 34,
   "id": "47f195ac",
   "metadata": {},
   "outputs": [
    {
     "name": "stdout",
     "output_type": "stream",
     "text": [
      "{'f', 'n', 's', 'i', 'e', 'd', 'r'}\n"
     ]
    }
   ],
   "source": [
    "x=set(\"friends\")\n",
    "print(x)"
   ]
  },
  {
   "cell_type": "code",
   "execution_count": 35,
   "id": "9e807068",
   "metadata": {},
   "outputs": [],
   "source": [
    "a={5,4,3,2,1}\n",
    "b={0,9,8,2,1}\n"
   ]
  },
  {
   "cell_type": "code",
   "execution_count": 36,
   "id": "9179a974",
   "metadata": {},
   "outputs": [
    {
     "name": "stdout",
     "output_type": "stream",
     "text": [
      "{0, 1, 2, 3, 4, 5, 8, 9}\n",
      "{0, 1, 2, 3, 4, 5, 8, 9}\n"
     ]
    }
   ],
   "source": [
    "print(a|b)\n",
    "print(a.union(b))"
   ]
  },
  {
   "cell_type": "code",
   "execution_count": 37,
   "id": "3aa8aad0",
   "metadata": {},
   "outputs": [
    {
     "name": "stdout",
     "output_type": "stream",
     "text": [
      "{1, 2}\n",
      "{1, 2}\n"
     ]
    }
   ],
   "source": [
    "a={5,4,3,2,1}\n",
    "b={0,9,8,2,1}\n",
    "print(a&b)\n",
    "print(a.intersection(b))"
   ]
  },
  {
   "cell_type": "code",
   "execution_count": 38,
   "id": "f6ce12da",
   "metadata": {},
   "outputs": [
    {
     "name": "stdout",
     "output_type": "stream",
     "text": [
      "{3, 4, 5}\n",
      "{3, 4, 5}\n"
     ]
    }
   ],
   "source": [
    "a={5,4,3,2,1}\n",
    "b={0,9,8,2,1}\n",
    "print(a-b)\n",
    "print(a.difference(b))\n"
   ]
  },
  {
   "cell_type": "code",
   "execution_count": 39,
   "id": "a58fabff",
   "metadata": {},
   "outputs": [
    {
     "name": "stdout",
     "output_type": "stream",
     "text": [
      "{0, 8, 9}\n",
      "{0, 8, 9}\n"
     ]
    }
   ],
   "source": [
    "a={5,4,3,2,1}\n",
    "b={0,9,8,2,1}\n",
    "print(b-a)\n",
    "print(b.difference(a))"
   ]
  },
  {
   "cell_type": "code",
   "execution_count": 40,
   "id": "5cd3272a",
   "metadata": {},
   "outputs": [
    {
     "name": "stdout",
     "output_type": "stream",
     "text": [
      "False\n"
     ]
    }
   ],
   "source": [
    "a={5,4,3,2,1}\n",
    "b={2,1}\n",
    "print(a.issubset(b))\n"
   ]
  },
  {
   "cell_type": "code",
   "execution_count": 41,
   "id": "d9afd9ca",
   "metadata": {},
   "outputs": [
    {
     "name": "stdout",
     "output_type": "stream",
     "text": [
      "True\n"
     ]
    }
   ],
   "source": [
    "a={5,4,3,2,1}\n",
    "b={2,1}\n",
    "print(b.issubset(a))"
   ]
  },
  {
   "cell_type": "code",
   "execution_count": 42,
   "id": "985e0d04",
   "metadata": {},
   "outputs": [
    {
     "name": "stdout",
     "output_type": "stream",
     "text": [
      "True\n"
     ]
    }
   ],
   "source": [
    "a={4,5,6,7,8,9}\n",
    "b={7,8,9}\n",
    "print(a.issuperset(b))"
   ]
  },
  {
   "cell_type": "code",
   "execution_count": 43,
   "id": "644297e7",
   "metadata": {},
   "outputs": [
    {
     "name": "stdout",
     "output_type": "stream",
     "text": [
      "False\n"
     ]
    }
   ],
   "source": [
    "a={4,5,6,7,8,9}\n",
    "b={7,8,9}\n",
    "print(b.issuperset(a))"
   ]
  },
  {
   "cell_type": "code",
   "execution_count": 44,
   "id": "17ac8cd3",
   "metadata": {},
   "outputs": [
    {
     "data": {
      "text/plain": [
       "['__and__',\n",
       " '__class__',\n",
       " '__class_getitem__',\n",
       " '__contains__',\n",
       " '__delattr__',\n",
       " '__dir__',\n",
       " '__doc__',\n",
       " '__eq__',\n",
       " '__format__',\n",
       " '__ge__',\n",
       " '__getattribute__',\n",
       " '__getstate__',\n",
       " '__gt__',\n",
       " '__hash__',\n",
       " '__iand__',\n",
       " '__init__',\n",
       " '__init_subclass__',\n",
       " '__ior__',\n",
       " '__isub__',\n",
       " '__iter__',\n",
       " '__ixor__',\n",
       " '__le__',\n",
       " '__len__',\n",
       " '__lt__',\n",
       " '__ne__',\n",
       " '__new__',\n",
       " '__or__',\n",
       " '__rand__',\n",
       " '__reduce__',\n",
       " '__reduce_ex__',\n",
       " '__repr__',\n",
       " '__ror__',\n",
       " '__rsub__',\n",
       " '__rxor__',\n",
       " '__setattr__',\n",
       " '__sizeof__',\n",
       " '__str__',\n",
       " '__sub__',\n",
       " '__subclasshook__',\n",
       " '__xor__',\n",
       " 'add',\n",
       " 'clear',\n",
       " 'copy',\n",
       " 'difference',\n",
       " 'difference_update',\n",
       " 'discard',\n",
       " 'intersection',\n",
       " 'intersection_update',\n",
       " 'isdisjoint',\n",
       " 'issubset',\n",
       " 'issuperset',\n",
       " 'pop',\n",
       " 'remove',\n",
       " 'symmetric_difference',\n",
       " 'symmetric_difference_update',\n",
       " 'union',\n",
       " 'update']"
      ]
     },
     "execution_count": 44,
     "metadata": {},
     "output_type": "execute_result"
    }
   ],
   "source": [
    "dir(set)"
   ]
  },
  {
   "cell_type": "code",
   "execution_count": 45,
   "id": "4f4e1ab6",
   "metadata": {},
   "outputs": [
    {
     "name": "stdout",
     "output_type": "stream",
     "text": [
      "{0, 1, 2, 3, 4, 5, 6, 7, 8, 9}\n"
     ]
    }
   ],
   "source": [
    "a={1,2,3,4,5,6,7,8,9}\n",
    "a.add(0)\n",
    "print(a)"
   ]
  },
  {
   "cell_type": "code",
   "execution_count": 46,
   "id": "eb3982d4",
   "metadata": {},
   "outputs": [
    {
     "name": "stdout",
     "output_type": "stream",
     "text": [
      "{0, 1, 2, 3, 4, 5, 6, 7, 8, 9}\n"
     ]
    }
   ],
   "source": [
    "a.add(8)\n",
    "print(a)"
   ]
  },
  {
   "cell_type": "code",
   "execution_count": 48,
   "id": "593c3c90",
   "metadata": {},
   "outputs": [
    {
     "ename": "NameError",
     "evalue": "name 'a' is not defined",
     "output_type": "error",
     "traceback": [
      "\u001b[1;31m---------------------------------------------------------------------------\u001b[0m",
      "\u001b[1;31mNameError\u001b[0m                                 Traceback (most recent call last)",
      "Cell \u001b[1;32mIn[48], line 3\u001b[0m\n\u001b[0;32m      1\u001b[0m a\u001b[38;5;241m=\u001b[39m{\u001b[38;5;241m1\u001b[39m,\u001b[38;5;241m2\u001b[39m,\u001b[38;5;241m3\u001b[39m,\u001b[38;5;241m4\u001b[39m,\u001b[38;5;241m5\u001b[39m}\n\u001b[0;32m      2\u001b[0m \u001b[38;5;28;01mdel\u001b[39;00m(a)\n\u001b[1;32m----> 3\u001b[0m \u001b[38;5;28mprint\u001b[39m(a)\n",
      "\u001b[1;31mNameError\u001b[0m: name 'a' is not defined"
     ]
    }
   ],
   "source": [
    "a={1,2,3,4,5}\n",
    "del(a)\n",
    "print(a)"
   ]
  },
  {
   "cell_type": "code",
   "execution_count": 49,
   "id": "f461f0db",
   "metadata": {},
   "outputs": [
    {
     "name": "stdout",
     "output_type": "stream",
     "text": [
      "set()\n"
     ]
    }
   ],
   "source": [
    "b={10,20,30,40}\n",
    "b.clear()\n",
    "print(b)"
   ]
  },
  {
   "cell_type": "code",
   "execution_count": 50,
   "id": "30b07601",
   "metadata": {},
   "outputs": [
    {
     "name": "stdout",
     "output_type": "stream",
     "text": [
      "{0, 2, 4, 8}\n"
     ]
    }
   ],
   "source": [
    "a={2,4,6,8,0}\n",
    "a.remove(6)\n",
    "print(a)"
   ]
  },
  {
   "cell_type": "code",
   "execution_count": 51,
   "id": "2ce52fa8",
   "metadata": {},
   "outputs": [
    {
     "ename": "KeyError",
     "evalue": "6",
     "output_type": "error",
     "traceback": [
      "\u001b[1;31m---------------------------------------------------------------------------\u001b[0m",
      "\u001b[1;31mKeyError\u001b[0m                                  Traceback (most recent call last)",
      "Cell \u001b[1;32mIn[51], line 1\u001b[0m\n\u001b[1;32m----> 1\u001b[0m a\u001b[38;5;241m.\u001b[39mremove(\u001b[38;5;241m6\u001b[39m)\n\u001b[0;32m      2\u001b[0m \u001b[38;5;28mprint\u001b[39m(a)\n",
      "\u001b[1;31mKeyError\u001b[0m: 6"
     ]
    }
   ],
   "source": [
    "a.remove(6)\n",
    "print(a)"
   ]
  },
  {
   "cell_type": "code",
   "execution_count": 52,
   "id": "622bb050",
   "metadata": {},
   "outputs": [
    {
     "name": "stdout",
     "output_type": "stream",
     "text": [
      "{9, 6, 7}\n"
     ]
    }
   ],
   "source": [
    "a={9,8,7,6}\n",
    "a.discard(8)\n",
    "print(a)"
   ]
  },
  {
   "cell_type": "code",
   "execution_count": 53,
   "id": "8ae7f066",
   "metadata": {},
   "outputs": [
    {
     "name": "stdout",
     "output_type": "stream",
     "text": [
      "{9, 6, 7}\n",
      "{9, 6, 7}\n"
     ]
    }
   ],
   "source": [
    "print(a)\n",
    "a.discard(8)\n",
    "print(a)"
   ]
  },
  {
   "cell_type": "code",
   "execution_count": 54,
   "id": "856b55ef",
   "metadata": {},
   "outputs": [
    {
     "name": "stdout",
     "output_type": "stream",
     "text": [
      "{3, 4, 5, 6, 7}\n",
      "2\n"
     ]
    }
   ],
   "source": [
    "a={2,3,4,5,6,7}\n",
    "r=a.pop()\n",
    "print(a)\n",
    "print(r)"
   ]
  },
  {
   "cell_type": "markdown",
   "id": "ff5f5789",
   "metadata": {},
   "source": [
    "## dictionary"
   ]
  },
  {
   "cell_type": "code",
   "execution_count": 55,
   "id": "06cf8ba9",
   "metadata": {},
   "outputs": [
    {
     "name": "stdout",
     "output_type": "stream",
     "text": [
      "john\n"
     ]
    }
   ],
   "source": [
    "person={'first_name':'john','last_name':'sam','salary':4000}\n",
    "print(person['first_name'])"
   ]
  },
  {
   "cell_type": "code",
   "execution_count": 56,
   "id": "4720dbc1",
   "metadata": {},
   "outputs": [
    {
     "name": "stdout",
     "output_type": "stream",
     "text": [
      "{'rick', 'jam', 'mark', 'ken', 'jack'}\n",
      "['jack', 'jam', 'ken', 'mark', 'rick']\n"
     ]
    }
   ],
   "source": [
    "l1={'rick','jam','mark','jack','ken'}\n",
    "l2=sorted(l1)\n",
    "print(l1)\n",
    "print(l2)"
   ]
  },
  {
   "cell_type": "code",
   "execution_count": 57,
   "id": "52524c80",
   "metadata": {},
   "outputs": [
    {
     "name": "stdout",
     "output_type": "stream",
     "text": [
      "['john', 'sam', 'jim', 'kim']\n",
      "jim\n"
     ]
    }
   ],
   "source": [
    "person={'first_name':['john','sam','jim','kim'],'last_name':'len'}\n",
    "print(person['first_name'])\n",
    "print(person['first_name'][2])"
   ]
  },
  {
   "cell_type": "code",
   "execution_count": 58,
   "id": "4ed32b77",
   "metadata": {},
   "outputs": [
    {
     "name": "stdout",
     "output_type": "stream",
     "text": [
      "['john', 'sam', 'XYZ', 'kim']\n"
     ]
    }
   ],
   "source": [
    "person['first_name'][2]='XYZ'\n",
    "print(person['first_name'])"
   ]
  },
  {
   "cell_type": "code",
   "execution_count": 59,
   "id": "55861972",
   "metadata": {},
   "outputs": [
    {
     "name": "stdout",
     "output_type": "stream",
     "text": [
      "['john', 'nick', 'jack']\n",
      "['john', 'nick']\n"
     ]
    }
   ],
   "source": [
    "\n",
    "person={'first_name':['john','nick','jack'],'last_name':'kim'}\n",
    "print(person['first_name'])\n",
    "del(person['first_name'][2])\n",
    "print(person['first_name'])"
   ]
  },
  {
   "cell_type": "code",
   "execution_count": 60,
   "id": "46dfef83",
   "metadata": {},
   "outputs": [
    {
     "ename": "KeyError",
     "evalue": "'first_name'",
     "output_type": "error",
     "traceback": [
      "\u001b[1;31m---------------------------------------------------------------------------\u001b[0m",
      "\u001b[1;31mKeyError\u001b[0m                                  Traceback (most recent call last)",
      "Cell \u001b[1;32mIn[60], line 2\u001b[0m\n\u001b[0;32m      1\u001b[0m person\u001b[38;5;241m.\u001b[39mclear()\n\u001b[1;32m----> 2\u001b[0m \u001b[38;5;28mprint\u001b[39m(person[\u001b[38;5;124m'\u001b[39m\u001b[38;5;124mfirst_name\u001b[39m\u001b[38;5;124m'\u001b[39m])\n",
      "\u001b[1;31mKeyError\u001b[0m: 'first_name'"
     ]
    }
   ],
   "source": [
    "person.clear()\n",
    "print(person['first_name'])"
   ]
  },
  {
   "cell_type": "code",
   "execution_count": 61,
   "id": "4b6efad0",
   "metadata": {},
   "outputs": [
    {
     "name": "stdout",
     "output_type": "stream",
     "text": [
      "{'a': 1, 'b': 4, 'c': 9, 'd': 16, 'e': 25}\n"
     ]
    }
   ],
   "source": [
    "d1={'a':1,'b':2,'c':3,'d':4,'e':5}\n",
    "double_d1={k:v**2 for (k,v) in d1.items()}\n",
    "print(double_d1)"
   ]
  },
  {
   "cell_type": "code",
   "execution_count": 62,
   "id": "d919c0d6",
   "metadata": {},
   "outputs": [
    {
     "name": "stdout",
     "output_type": "stream",
     "text": [
      "{'brand': 'ford', 'model': 'mustang', 'year': 2004}\n",
      "{'brand': 'ford', 'model': 'mustang', 'year': 2004, 'color': 'red'}\n"
     ]
    }
   ],
   "source": [
    "di={'brand':'ford','model':'mustang','year':2004}\n",
    "print(di)\n",
    "di['color']='red'\n",
    "print(di)"
   ]
  },
  {
   "cell_type": "code",
   "execution_count": 63,
   "id": "63a5ffff",
   "metadata": {},
   "outputs": [
    {
     "name": "stdout",
     "output_type": "stream",
     "text": [
      "{'brand': 'ford', 'year': 2004, 'color': 'red'}\n"
     ]
    }
   ],
   "source": [
    "di.pop('model')\n",
    "print(di)"
   ]
  },
  {
   "cell_type": "code",
   "execution_count": 67,
   "id": "6a0b1991",
   "metadata": {},
   "outputs": [
    {
     "name": "stdout",
     "output_type": "stream",
     "text": [
      "{'brand': 'ford', 'year': 2004, 'color': 'red'}\n"
     ]
    }
   ],
   "source": [
    "mydi=di.copy()\n",
    "print(mydi)"
   ]
  },
  {
   "cell_type": "code",
   "execution_count": 69,
   "id": "5481cc1f",
   "metadata": {},
   "outputs": [
    {
     "name": "stdout",
     "output_type": "stream",
     "text": [
      "{'child1': {'name': 'emi', 'year': 2000}, 'child2': {'name': 'ash', 'year': 2002}, 'child3': {'name': 'linus', 'year': 2009}}\n",
      "\n",
      "Values\n",
      "\n",
      "dict_values([{'name': 'emi', 'year': 2000}, {'name': 'ash', 'year': 2002}, {'name': 'linus', 'year': 2009}])\n",
      "\n",
      "Items\n",
      "\n",
      "dict_items([('child1', {'name': 'emi', 'year': 2000}), ('child2', {'name': 'ash', 'year': 2002}), ('child3', {'name': 'linus', 'year': 2009})])\n"
     ]
    }
   ],
   "source": [
    "myfam={'child1':{'name':'emi','year':2000},'child2':{'name':'ash','year':2002},'child3':{'name':'linus','year':2009}}\n",
    "print(myfam)\n",
    "print('\\nValues\\n')\n",
    "print(myfam.values())\n",
    "print('\\nItems\\n')\n",
    "print(myfam.items())"
   ]
  },
  {
   "cell_type": "code",
   "execution_count": 73,
   "id": "b530165c",
   "metadata": {},
   "outputs": [
    {
     "name": "stdout",
     "output_type": "stream",
     "text": [
      "{'father': {'name': 'ravi', 'age': 45}, 'mother': {'name': 'swapna', 'age': 40}, 'children': {'child1': {'name': 'ashwin', 'age': 19}, 'child2': {'name': 'anil', 'age': 17}}}\n",
      "{'name': 'ravi', 'age': 45}\n",
      "{'child1': {'name': 'ashwin', 'age': 19}, 'child2': {'name': 'anil', 'age': 17}}\n",
      "{'name': 'ashwin', 'age': 19}\n"
     ]
    }
   ],
   "source": [
    "myfam={'father':{'name':'ravi','age':45},'mother':{'name':'swapna','age':40},\"children\":{'child1':{'name':'ashwin','age':19},'child2':{'name':'anil','age':17}}}\n",
    "print(myfam)\n",
    "print(myfam['father'])\n",
    "print(myfam['children'])\n",
    "print(myfam['children']['child1'])"
   ]
  },
  {
   "cell_type": "code",
   "execution_count": 75,
   "id": "5f561b82",
   "metadata": {},
   "outputs": [
    {
     "name": "stdout",
     "output_type": "stream",
     "text": [
      "hello rick your order id is  AA123\n",
      "hello nick your order id is  AAA110\n",
      "hello ken your order id is  BBB111\n",
      "hello jim your order id is  BBB123\n"
     ]
    }
   ],
   "source": [
    "cus_names={'nick','rick','jim','ken'}\n",
    "or_id=['AA123','AAA110','BBB111','BBB123','CCC100']\n",
    "for(c,o) in zip(cus_names,or_id):\n",
    "    print('hello',c,'your order id is ',o)"
   ]
  },
  {
   "cell_type": "code",
   "execution_count": 78,
   "id": "c8acd01e",
   "metadata": {},
   "outputs": [
    {
     "name": "stdout",
     "output_type": "stream",
     "text": [
      "{'chennai': 5000, 'mumbai': 6000, 'pune': 7000, 'delhi': 9900}\n"
     ]
    }
   ],
   "source": [
    "city=['chennai','mumbai','pune','delhi']\n",
    "population=[5000,6000,7000,9900]\n",
    "new_dict={city:population for city,population in zip(city,population)}\n",
    "print(new_dict)"
   ]
  }
 ],
 "metadata": {
  "kernelspec": {
   "display_name": "Python 3 (ipykernel)",
   "language": "python",
   "name": "python3"
  },
  "language_info": {
   "codemirror_mode": {
    "name": "ipython",
    "version": 3
   },
   "file_extension": ".py",
   "mimetype": "text/x-python",
   "name": "python",
   "nbconvert_exporter": "python",
   "pygments_lexer": "ipython3",
   "version": "3.11.5"
  }
 },
 "nbformat": 4,
 "nbformat_minor": 5
}
