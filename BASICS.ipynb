{
 "cells": [
  {
   "cell_type": "markdown",
   "id": "0085973f",
   "metadata": {},
   "source": [
    "# commands"
   ]
  },
  {
   "cell_type": "code",
   "execution_count": 15,
   "id": "09c1e1e9",
   "metadata": {},
   "outputs": [
    {
     "name": "stdout",
     "output_type": "stream",
     "text": [
      "c:\\docs\\navya\n"
     ]
    }
   ],
   "source": [
    "print(r'c:\\docs\\navya')"
   ]
  },
  {
   "cell_type": "code",
   "execution_count": 16,
   "id": "307ad73d",
   "metadata": {},
   "outputs": [
    {
     "name": "stdout",
     "output_type": "stream",
     "text": [
      "c:\\docs\n",
      "avya\n"
     ]
    }
   ],
   "source": [
    "print('c:\\docs\\navya')"
   ]
  },
  {
   "cell_type": "code",
   "execution_count": 17,
   "id": "6477f245",
   "metadata": {},
   "outputs": [
    {
     "name": "stdout",
     "output_type": "stream",
     "text": [
      "aishu's \"arts\"\n"
     ]
    }
   ],
   "source": [
    "print('aishu\\'s \"arts\"')"
   ]
  },
  {
   "cell_type": "code",
   "execution_count": 18,
   "id": "5e9f0037",
   "metadata": {},
   "outputs": [
    {
     "ename": "SyntaxError",
     "evalue": "invalid syntax. Perhaps you forgot a comma? (3362209394.py, line 1)",
     "output_type": "error",
     "traceback": [
      "\u001b[1;36m  Cell \u001b[1;32mIn[18], line 1\u001b[1;36m\u001b[0m\n\u001b[1;33m    print('aishu's \"arts\"'')\u001b[0m\n\u001b[1;37m          ^\u001b[0m\n\u001b[1;31mSyntaxError\u001b[0m\u001b[1;31m:\u001b[0m invalid syntax. Perhaps you forgot a comma?\n"
     ]
    }
   ],
   "source": [
    "print('aishu's \"arts\"'')"
   ]
  },
  {
   "cell_type": "code",
   "execution_count": 19,
   "id": "d4b9bfe1",
   "metadata": {},
   "outputs": [],
   "source": [
    "a=67"
   ]
  },
  {
   "cell_type": "code",
   "execution_count": 20,
   "id": "5702b2df",
   "metadata": {},
   "outputs": [
    {
     "data": {
      "text/plain": [
       "67"
      ]
     },
     "execution_count": 20,
     "metadata": {},
     "output_type": "execute_result"
    }
   ],
   "source": [
    "a"
   ]
  },
  {
   "cell_type": "code",
   "execution_count": 21,
   "id": "d2697896",
   "metadata": {},
   "outputs": [
    {
     "data": {
      "text/plain": [
       "4489"
      ]
     },
     "execution_count": 21,
     "metadata": {},
     "output_type": "execute_result"
    }
   ],
   "source": [
    "a**2"
   ]
  },
  {
   "cell_type": "code",
   "execution_count": 22,
   "id": "30bf57bb",
   "metadata": {},
   "outputs": [
    {
     "data": {
      "text/plain": [
       "70"
      ]
     },
     "execution_count": 22,
     "metadata": {},
     "output_type": "execute_result"
    }
   ],
   "source": [
    "a+3"
   ]
  },
  {
   "cell_type": "code",
   "execution_count": 23,
   "id": "7bed6024",
   "metadata": {},
   "outputs": [
    {
     "data": {
      "text/plain": [
       "140"
      ]
     },
     "execution_count": 23,
     "metadata": {},
     "output_type": "execute_result"
    }
   ],
   "source": [
    "_+70"
   ]
  },
  {
   "cell_type": "code",
   "execution_count": 24,
   "id": "01dd8217",
   "metadata": {},
   "outputs": [
    {
     "data": {
      "text/plain": [
       "100"
      ]
     },
     "execution_count": 24,
     "metadata": {},
     "output_type": "execute_result"
    }
   ],
   "source": [
    "_-40"
   ]
  },
  {
   "cell_type": "code",
   "execution_count": 25,
   "id": "4b47f984",
   "metadata": {},
   "outputs": [],
   "source": [
    "name='aishu'"
   ]
  },
  {
   "cell_type": "code",
   "execution_count": 26,
   "id": "7795d858",
   "metadata": {},
   "outputs": [
    {
     "data": {
      "text/plain": [
       "'aishu'"
      ]
     },
     "execution_count": 26,
     "metadata": {},
     "output_type": "execute_result"
    }
   ],
   "source": [
    "name"
   ]
  },
  {
   "cell_type": "code",
   "execution_count": 27,
   "id": "2b50bead",
   "metadata": {},
   "outputs": [
    {
     "name": "stdout",
     "output_type": "stream",
     "text": [
      "aishu\n"
     ]
    }
   ],
   "source": [
    "print(name)"
   ]
  },
  {
   "cell_type": "code",
   "execution_count": 28,
   "id": "c31890a3",
   "metadata": {},
   "outputs": [
    {
     "data": {
      "text/plain": [
       "'aishuarts'"
      ]
     },
     "execution_count": 28,
     "metadata": {},
     "output_type": "execute_result"
    }
   ],
   "source": [
    "name+'arts'"
   ]
  },
  {
   "cell_type": "code",
   "execution_count": 29,
   "id": "f6a2fb3b",
   "metadata": {},
   "outputs": [
    {
     "data": {
      "text/plain": [
       "'a'"
      ]
     },
     "execution_count": 29,
     "metadata": {},
     "output_type": "execute_result"
    }
   ],
   "source": [
    "name[0]"
   ]
  },
  {
   "cell_type": "code",
   "execution_count": 30,
   "id": "16a5ed9f",
   "metadata": {},
   "outputs": [
    {
     "data": {
      "text/plain": [
       "'aishu'"
      ]
     },
     "execution_count": 30,
     "metadata": {},
     "output_type": "execute_result"
    }
   ],
   "source": [
    "name[0:]"
   ]
  },
  {
   "cell_type": "code",
   "execution_count": 31,
   "id": "0229ff06",
   "metadata": {},
   "outputs": [
    {
     "data": {
      "text/plain": [
       "'hu'"
      ]
     },
     "execution_count": 31,
     "metadata": {},
     "output_type": "execute_result"
    }
   ],
   "source": [
    "name[-2:]"
   ]
  },
  {
   "cell_type": "code",
   "execution_count": 32,
   "id": "a898eef7",
   "metadata": {},
   "outputs": [
    {
     "data": {
      "text/plain": [
       "'aish'"
      ]
     },
     "execution_count": 32,
     "metadata": {},
     "output_type": "execute_result"
    }
   ],
   "source": [
    "name[0:4]"
   ]
  },
  {
   "cell_type": "code",
   "execution_count": 33,
   "id": "f08873f8",
   "metadata": {},
   "outputs": [
    {
     "data": {
      "text/plain": [
       "'aishwarya'"
      ]
     },
     "execution_count": 33,
     "metadata": {},
     "output_type": "execute_result"
    }
   ],
   "source": [
    "name[0:4]+'warya'"
   ]
  },
  {
   "cell_type": "code",
   "execution_count": 34,
   "id": "0ddf0d64",
   "metadata": {},
   "outputs": [],
   "source": [
    "myname='Aishwarya Ravinder'"
   ]
  }
 ],
 "metadata": {
  "kernelspec": {
   "display_name": "Python 3 (ipykernel)",
   "language": "python",
   "name": "python3"
  },
  "language_info": {
   "codemirror_mode": {
    "name": "ipython",
    "version": 3
   },
   "file_extension": ".py",
   "mimetype": "text/x-python",
   "name": "python",
   "nbconvert_exporter": "python",
   "pygments_lexer": "ipython3",
   "version": "3.11.7"
  }
 },
 "nbformat": 4,
 "nbformat_minor": 5
}
