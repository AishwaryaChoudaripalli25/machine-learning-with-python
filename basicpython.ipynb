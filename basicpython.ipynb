{
 "cells": [
  {
   "cell_type": "markdown",
   "id": "78b4dfa6-1b74-4641-8ed6-984aed4946b4",
   "metadata": {},
   "source": [
    "## swap two variables"
   ]
  },
  {
   "cell_type": "code",
   "execution_count": 6,
   "id": "6b3726e7-d084-4282-be2e-0e9d025e31ac",
   "metadata": {},
   "outputs": [
    {
     "name": "stdout",
     "output_type": "stream",
     "text": [
      "5\n",
      "4\n"
     ]
    }
   ],
   "source": [
    "#without using 3rd variable\n",
    "a=4\n",
    "b=5\n",
    "a,b=b,a\n",
    "print(a)\n",
    "print(b)"
   ]
  },
  {
   "cell_type": "code",
   "execution_count": 8,
   "id": "de06b3cd-358a-41fa-807d-615e06298ec7",
   "metadata": {},
   "outputs": [
    {
     "name": "stdout",
     "output_type": "stream",
     "text": [
      "8\n",
      "7\n"
     ]
    }
   ],
   "source": [
    "a=7\n",
    "b=8\n",
    "a=a+b\n",
    "b=a-b\n",
    "a=a-b\n",
    "print(a)\n",
    "print(b)"
   ]
  },
  {
   "cell_type": "code",
   "execution_count": 13,
   "id": "16f4e539-48c2-403b-9141-5564fafd4ee1",
   "metadata": {},
   "outputs": [
    {
     "name": "stdout",
     "output_type": "stream",
     "text": [
      "11\n",
      "10\n"
     ]
    }
   ],
   "source": [
    "\n",
    "a=10\n",
    "b=11\n",
    "temp=a\n",
    "a=b\n",
    "b=temp\n",
    "print(a)\n",
    "print(b)"
   ]
  },
  {
   "cell_type": "code",
   "execution_count": 16,
   "id": "99b8eda7-b309-4ba9-820e-5b3db1945005",
   "metadata": {},
   "outputs": [
    {
     "name": "stdout",
     "output_type": "stream",
     "text": [
      "13\n",
      "12\n"
     ]
    }
   ],
   "source": [
    "a=12\n",
    "b=13\n",
    "a=a^b\n",
    "b=a^b\n",
    "a=a^b\n",
    "print(a)\n",
    "print(b)"
   ]
  },
  {
   "cell_type": "code",
   "execution_count": 19,
   "id": "8a206970-cae6-4ced-93f8-5b81fd9946f8",
   "metadata": {},
   "outputs": [
    {
     "name": "stdout",
     "output_type": "stream",
     "text": [
      "swapping numbers a=10 and b=11\n",
      "after swapping a=11 and b=10\n"
     ]
    }
   ],
   "source": [
    "a=10\n",
    "b=11\n",
    "print(f\"swapping numbers a={a} and b={b}\")\n",
    "a,b=b,a\n",
    "print(f\"after swapping a={a} and b={b}\")"
   ]
  },
  {
   "cell_type": "markdown",
   "id": "0662c713-d954-46fd-8c2d-d4f2b56f1094",
   "metadata": {},
   "source": [
    "## conversion of kilometers into miles"
   ]
  },
  {
   "cell_type": "code",
   "execution_count": 21,
   "id": "8ff368f9-fa10-4f52-b204-b4c1c0bd33b8",
   "metadata": {},
   "outputs": [
    {
     "name": "stdin",
     "output_type": "stream",
     "text": [
      "enter distance in kilometers: 30\n"
     ]
    },
    {
     "name": "stdout",
     "output_type": "stream",
     "text": [
      "after conversion 30.0 km is equal to 18.64113 miles\n",
      "distance in miles is 18.64113 miles\n"
     ]
    }
   ],
   "source": [
    "kilometers=float(input(\"enter distance in kilometers:\"))\n",
    "miles=0.621371*kilometers\n",
    "print(f\"after conversion {kilometers} km is equal to {miles} miles\")\n",
    "print(f\"distance in miles is {miles} miles\")\n"
   ]
  },
  {
   "cell_type": "markdown",
   "id": "c158551b-d4e0-42d6-9edf-1f81f5a3477b",
   "metadata": {},
   "source": [
    "## conversion of celsiūs into fahrenheit"
   ]
  },
  {
   "cell_type": "code",
   "execution_count": 23,
   "id": "b231177f-71ee-4d2c-a84d-24087602322c",
   "metadata": {},
   "outputs": [
    {
     "name": "stdin",
     "output_type": "stream",
     "text": [
      "enter the temperature in celsius: 100\n"
     ]
    },
    {
     "name": "stdout",
     "output_type": "stream",
     "text": [
      "if celsius temperature=100.0,then temperature in fahrenheit =212.0\n"
     ]
    }
   ],
   "source": [
    "celsius=float(input(\"enter the temperature in celsius:\"))\n",
    "fahrenheit=(celsius*9/5)+32\n",
    "print(f\"if celsius temperature={celsius},then temperature in fahrenheit ={fahrenheit}\")"
   ]
  },
  {
   "cell_type": "markdown",
   "id": "e7b0d355-653a-4f0f-9e50-5d503f485fd7",
   "metadata": {},
   "source": [
    "## printing calendar"
   ]
  },
  {
   "cell_type": "code",
   "execution_count": 26,
   "id": "412a8627-fcd4-4df9-9a80-2d775c40218a",
   "metadata": {},
   "outputs": [
    {
     "name": "stdin",
     "output_type": "stream",
     "text": [
      "enter the year: 2024\n",
      "enter the month: 8\n"
     ]
    },
    {
     "name": "stdout",
     "output_type": "stream",
     "text": [
      "    August 2024\n",
      "Mo Tu We Th Fr Sa Su\n",
      "          1  2  3  4\n",
      " 5  6  7  8  9 10 11\n",
      "12 13 14 15 16 17 18\n",
      "19 20 21 22 23 24 25\n",
      "26 27 28 29 30 31\n",
      "\n"
     ]
    }
   ],
   "source": [
    "import calendar\n",
    "year=int(input(\"enter the year:\"))\n",
    "month=int(input(\"enter the month:\"))\n",
    "c1=calendar.month(year,month)\n",
    "print(c1)"
   ]
  },
  {
   "cell_type": "markdown",
   "id": "1eb823f0-a6c8-4daa-aba1-f3012b43b988",
   "metadata": {},
   "source": [
    "## solve quadratic equation"
   ]
  },
  {
   "cell_type": "code",
   "execution_count": null,
   "id": "848689f1-32e0-4d69-ae80-67f8bbd2b308",
   "metadata": {},
   "outputs": [],
   "source": [
    "import math\n",
    "a=float(input(\"enter coefficient of x^2:\"))\n",
    "b=float(input(\"enter coefficient of x:\"))\n",
    "c=float(input(\"enter constant:\"))\n",
    "discriminant=b**2-4*a*c\n",
    "if discriminant>0:\n",
    "    root1=-b+math.sqrt(discriminant)/(2*a)\n",
    "    root2=-b-math.sqrt(discriminant)/(2*a)\n",
    "    print(f\"root1={root1}\")\n",
    "    print(f\"root2={root2}\")\n",
    "elif discriminant==0:\n",
    "    root=-b/(2*a)\n",
    "    print(f\"root = {root}\")\n",
    "else:\n",
    "    real_part=-b/(2*a)\n",
    "    imaginary_part=math.sqrt(abs(discriminant))/(2*a)\n",
    "    print(f\"root1={real_part}+{imaginary_part}i\")\n",
    "    print(f\"root2={real_part}-{imaginary_part}i\")\n",
    "    "
   ]
  },
  {
   "cell_type": "markdown",
   "id": "f801284e-5499-4ed5-826d-2524128057a5",
   "metadata": {},
   "source": [
    "## check if num is +ve ,-ve and zero"
   ]
  },
  {
   "cell_type": "code",
   "execution_count": 3,
   "id": "d1dab4d7-f7e3-4052-bc42-a0165aedacb8",
   "metadata": {},
   "outputs": [
    {
     "name": "stdin",
     "output_type": "stream",
     "text": [
      "enter the num: -9\n"
     ]
    },
    {
     "name": "stdout",
     "output_type": "stream",
     "text": [
      "negative number\n"
     ]
    }
   ],
   "source": [
    "num=float(input(\"enter the num:\"))\n",
    "\n",
    "if num>0:\n",
    "    print(\"positive number\")\n",
    "elif num==0:\n",
    "    print(\"zero\")\n",
    "else:\n",
    "    print(\"negative number\")"
   ]
  },
  {
   "cell_type": "code",
   "execution_count": 1,
   "id": "5dcf1ee2-4aaf-4b5f-a143-833886196e68",
   "metadata": {},
   "outputs": [
    {
     "name": "stdin",
     "output_type": "stream",
     "text": [
      "enter the num: 7\n"
     ]
    },
    {
     "name": "stdout",
     "output_type": "stream",
     "text": [
      "it is odd number\n"
     ]
    }
   ],
   "source": [
    "num=int(input(\"enter the num:\"))\n",
    "if num%2==0:\n",
    "    print(\"it is even number\")\n",
    "else:\n",
    "    print(\"it is odd number\")\n"
   ]
  },
  {
   "cell_type": "markdown",
   "id": "efede459-5248-43ee-a72f-1bd10c508fdb",
   "metadata": {},
   "source": [
    "## check if given year is leap year"
   ]
  },
  {
   "cell_type": "code",
   "execution_count": 20,
   "id": "899479f9-6d90-48e6-a2ab-a38fa47dd533",
   "metadata": {},
   "outputs": [
    {
     "name": "stdin",
     "output_type": "stream",
     "text": [
      "enter the year: 1904\n"
     ]
    },
    {
     "name": "stdout",
     "output_type": "stream",
     "text": [
      "1904 is a leap year\n"
     ]
    }
   ],
   "source": [
    "year=int(input(\"enter the year:\"))\n",
    "if (year % 400 == 0 ) and (year%100==0):\n",
    "    print(f\"{year} is a leap year\")\n",
    "elif (year%4==0) and (year%100!=0):\n",
    "    print(f\"{year} is a leap year\")\n",
    "else:\n",
    "    print(f\"{year} is not a leap year\")"
   ]
  },
  {
   "cell_type": "markdown",
   "id": "fa6d1c6a-b973-42f7-a3a1-ed5a3c62199f",
   "metadata": {},
   "source": [
    "## check if num is prime number"
   ]
  },
  {
   "cell_type": "code",
   "execution_count": 28,
   "id": "07a3fd9d-29d4-4f7b-b3f5-c3f29616124e",
   "metadata": {},
   "outputs": [
    {
     "name": "stdin",
     "output_type": "stream",
     "text": [
      "enter the num: 7\n"
     ]
    },
    {
     "name": "stdout",
     "output_type": "stream",
     "text": [
      "7 is a prime number\n"
     ]
    }
   ],
   "source": [
    "num=int(input(\"enter the num:\"))\n",
    "f=False\n",
    "if num==1:\n",
    "    print(f\"{num} is not a prime number\")\n",
    "elif num>1:\n",
    "    for i in range (2,num):\n",
    "        if (num%i)==0:\n",
    "            f=True\n",
    "            break\n",
    "if f:\n",
    "    print(f\"{num} is not a prime number\")\n",
    "else:\n",
    "    print(f\"{num} is a prime number\")\n",
    "    "
   ]
  },
  {
   "cell_type": "code",
   "execution_count": 33,
   "id": "f66b4913-2836-4276-a8b0-9aef64777ec7",
   "metadata": {},
   "outputs": [
    {
     "name": "stdin",
     "output_type": "stream",
     "text": [
      "enter the num: 8\n"
     ]
    },
    {
     "name": "stdout",
     "output_type": "stream",
     "text": [
      "8 is not a prime number\n"
     ]
    }
   ],
   "source": [
    "def prime(num):\n",
    "    \n",
    "    if num<=1:\n",
    "        return False\n",
    "    if num==2 or num==3:\n",
    "        return True\n",
    "    if num%2==0 or num%3==0:\n",
    "        return False\n",
    "    i=5\n",
    "    while i*i<=num:\n",
    "        if num%i==0 or num%(i+2)==0:\n",
    "            return False\n",
    "        i+=6\n",
    "    return True\n",
    "num=int(input(\"enter the num:\"))\n",
    "if prime(num):\n",
    "    print(f\"{num} is a prime number\")\n",
    "else:\n",
    "    print(f\"{num} is not a prime number\")\n"
   ]
  },
  {
   "cell_type": "markdown",
   "id": "d9b2a74c-7cb8-4cec-9a2c-284dca9db30d",
   "metadata": {},
   "source": [
    "## display range of prime numbers"
   ]
  },
  {
   "cell_type": "code",
   "execution_count": 42,
   "id": "5e3c4974-4cc6-4e15-af0b-b0d029adfe43",
   "metadata": {},
   "outputs": [
    {
     "name": "stdin",
     "output_type": "stream",
     "text": [
      "enter the number: 10\n"
     ]
    },
    {
     "name": "stdout",
     "output_type": "stream",
     "text": [
      "3\n",
      "5\n",
      "5\n",
      "5\n",
      "7\n",
      "7\n",
      "7\n",
      "7\n",
      "7\n",
      "9\n"
     ]
    }
   ],
   "source": [
    "n=int(input(\"enter the number:\"))\n",
    "l=0\n",
    "u=10\n",
    "for n in range(l,u+1):\n",
    "    if n>1:\n",
    "        for i in range(2,n):\n",
    "            if n%i==0: \n",
    "                break\n",
    "            else:\n",
    "                print(n)"
   ]
  },
  {
   "cell_type": "code",
   "execution_count": null,
   "id": "a6b35562-b039-4045-8b43-b2e89c3f6d68",
   "metadata": {},
   "outputs": [],
   "source": []
  }
 ],
 "metadata": {
  "kernelspec": {
   "display_name": "Python 3 (ipykernel)",
   "language": "python",
   "name": "python3"
  },
  "language_info": {
   "codemirror_mode": {
    "name": "ipython",
    "version": 3
   },
   "file_extension": ".py",
   "mimetype": "text/x-python",
   "name": "python",
   "nbconvert_exporter": "python",
   "pygments_lexer": "ipython3",
   "version": "3.11.7"
  }
 },
 "nbformat": 4,
 "nbformat_minor": 5
}
