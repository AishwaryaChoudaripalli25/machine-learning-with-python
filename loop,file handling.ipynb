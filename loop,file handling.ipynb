{
 "cells": [
  {
   "cell_type": "code",
   "execution_count": 1,
   "id": "e983003b",
   "metadata": {},
   "outputs": [
    {
     "name": "stdout",
     "output_type": "stream",
     "text": [
      "hello! world\n"
     ]
    }
   ],
   "source": [
    "print('hello! world')"
   ]
  },
  {
   "cell_type": "code",
   "execution_count": 2,
   "id": "2c636c02",
   "metadata": {},
   "outputs": [
    {
     "name": "stdout",
     "output_type": "stream",
     "text": [
      "<class 'str'>\n",
      "<class 'int'>\n",
      "<class 'float'>\n"
     ]
    }
   ],
   "source": [
    "print(type(\"a\"))\n",
    "print(type(2))\n",
    "print(type(2.5))"
   ]
  },
  {
   "cell_type": "code",
   "execution_count": 3,
   "id": "e06a2664",
   "metadata": {},
   "outputs": [],
   "source": [
    "age: int = 34"
   ]
  },
  {
   "cell_type": "code",
   "execution_count": 4,
   "id": "e5741b99",
   "metadata": {},
   "outputs": [
    {
     "data": {
      "text/plain": [
       "34"
      ]
     },
     "execution_count": 4,
     "metadata": {},
     "output_type": "execute_result"
    }
   ],
   "source": [
    "age"
   ]
  },
  {
   "cell_type": "code",
   "execution_count": 5,
   "id": "61c2e4a1",
   "metadata": {},
   "outputs": [
    {
     "name": "stdout",
     "output_type": "stream",
     "text": [
      "1 days has   1440  seconds\n",
      "2 days has   2880  seconds\n",
      "3 days has   4320  seconds\n",
      "4 days has   5760  seconds\n",
      "5 days has   7200  seconds\n",
      "6 days has   8640  seconds\n",
      "7 days has   10080  seconds\n",
      "8 days has   11520  seconds\n",
      "9 days has   12960  seconds\n",
      "10 days has   14400  seconds\n",
      "11 days has   15840  seconds\n",
      "12 days has   17280  seconds\n",
      "13 days has   18720  seconds\n",
      "14 days has   20160  seconds\n",
      "15 days has   21600  seconds\n",
      "16 days has   23040  seconds\n",
      "17 days has   24480  seconds\n",
      "18 days has   25920  seconds\n",
      "19 days has   27360  seconds\n",
      "20 days has   28800  seconds\n",
      "21 days has   30240  seconds\n",
      "22 days has   31680  seconds\n",
      "23 days has   33120  seconds\n",
      "24 days has   34560  seconds\n",
      "25 days has   36000  seconds\n",
      "26 days has   37440  seconds\n",
      "27 days has   38880  seconds\n",
      "28 days has   40320  seconds\n",
      "29 days has   41760  seconds\n",
      "30 days has   43200  seconds\n"
     ]
    }
   ],
   "source": [
    "def to_seconds(x):\n",
    "    return (x*24)*60\n",
    "for x in range(1,31,1):\n",
    "    print(str(x)+' days has '+'  '+str(to_seconds(x))+'  seconds')"
   ]
  },
  {
   "cell_type": "code",
   "execution_count": null,
   "id": "3d800a12",
   "metadata": {},
   "outputs": [],
   "source": []
  },
  {
   "cell_type": "code",
   "execution_count": null,
   "id": "d6cc12e8",
   "metadata": {},
   "outputs": [],
   "source": []
  },
  {
   "cell_type": "code",
   "execution_count": null,
   "id": "b8339f01",
   "metadata": {},
   "outputs": [],
   "source": []
  },
  {
   "cell_type": "markdown",
   "id": "bbfeb497",
   "metadata": {},
   "source": [
    "### loops"
   ]
  },
  {
   "cell_type": "markdown",
   "id": "98559552",
   "metadata": {},
   "source": [
    "#### while loop"
   ]
  },
  {
   "cell_type": "code",
   "execution_count": 6,
   "id": "0f118458",
   "metadata": {},
   "outputs": [
    {
     "name": "stdout",
     "output_type": "stream",
     "text": [
      "4\n",
      "8\n",
      "12\n",
      "16\n",
      "20\n",
      "24\n",
      "28\n",
      "32\n",
      "36\n",
      "40\n",
      "done\n"
     ]
    }
   ],
   "source": [
    "n=1\n",
    "result=n*4\n",
    "while result<=40:\n",
    "     print(result)\n",
    "     n+=1\n",
    "     result=n*4\n",
    "print(\"done\")"
   ]
  },
  {
   "cell_type": "code",
   "execution_count": 7,
   "id": "e5123a0b",
   "metadata": {},
   "outputs": [],
   "source": [
    "def count_factors(num):\n",
    "    \n",
    "    factor=1\n",
    "    count=1\n",
    "    \n",
    "    if num==0:\n",
    "        return 0\n",
    "    while factor<num:\n",
    "        if num % factor == 0:  \n",
    "            count+=1\n",
    "        factor+=1\n",
    "    return count\n"
   ]
  },
  {
   "cell_type": "code",
   "execution_count": 8,
   "id": "8316458f",
   "metadata": {},
   "outputs": [
    {
     "name": "stdout",
     "output_type": "stream",
     "text": [
      "0\n",
      "2\n",
      "8\n"
     ]
    }
   ],
   "source": [
    "print(count_factors(0))\n",
    "print(count_factors(3))\n",
    "print(count_factors(24))\n"
   ]
  },
  {
   "cell_type": "code",
   "execution_count": 9,
   "id": "2f86c9c8",
   "metadata": {},
   "outputs": [],
   "source": [
    "def add_table(num):\n",
    "    iterated_num=1\n",
    "    my_sum=1\n",
    "    while iterated_num<=6:\n",
    "         my_sum=num+iterated_num\n",
    "         if my_sum>20:\n",
    "            break\n",
    "         print(str(num),'+',str(iterated_num),'=',my_sum)\n",
    "         iterated_num+=1\n",
    "            "
   ]
  },
  {
   "cell_type": "code",
   "execution_count": 10,
   "id": "1850ea9a",
   "metadata": {},
   "outputs": [
    {
     "name": "stdout",
     "output_type": "stream",
     "text": [
      "10 + 1 = 11\n",
      "10 + 2 = 12\n",
      "10 + 3 = 13\n",
      "10 + 4 = 14\n",
      "10 + 5 = 15\n",
      "10 + 6 = 16\n",
      "6 + 1 = 7\n",
      "6 + 2 = 8\n",
      "6 + 3 = 9\n",
      "6 + 4 = 10\n",
      "6 + 5 = 11\n",
      "6 + 6 = 12\n",
      "3 + 1 = 4\n",
      "3 + 2 = 5\n",
      "3 + 3 = 6\n",
      "3 + 4 = 7\n",
      "3 + 5 = 8\n",
      "3 + 6 = 9\n"
     ]
    }
   ],
   "source": [
    "add_table(10)\n",
    "add_table(6)\n",
    "add_table(3)"
   ]
  },
  {
   "cell_type": "code",
   "execution_count": 11,
   "id": "58babd64",
   "metadata": {},
   "outputs": [],
   "source": [
    "def is_power_of_two(number):\n",
    "  # This while loop checks if the \"number\" can be divided by two\n",
    "  # without leaving a remainder. How can you change the while loop to\n",
    "  # avoid a Python ZeroDivisionError?\n",
    "  if number<=0:\n",
    "    return False\n",
    "  while number % 2 == 0:\n",
    "    number = number//2\n",
    "  # If after dividing by 2 \"number\" equals 1, then \"number\" is a power\n",
    "  # of 2.\n",
    "  if number == 1:\n",
    "    return True\n",
    "  else:\n",
    "    return False\n",
    "  "
   ]
  },
  {
   "cell_type": "code",
   "execution_count": 12,
   "id": "1d902127",
   "metadata": {},
   "outputs": [
    {
     "name": "stdout",
     "output_type": "stream",
     "text": [
      "False\n",
      "True\n",
      "True\n",
      "False\n"
     ]
    }
   ],
   "source": [
    "print(is_power_of_two(0)) # Should be False\n",
    "print(is_power_of_two(1)) # Should be True\n",
    "print(is_power_of_two(8)) # Should be True\n",
    "print(is_power_of_two(9)) # Should be False"
   ]
  },
  {
   "cell_type": "code",
   "execution_count": 13,
   "id": "993a65e6",
   "metadata": {},
   "outputs": [],
   "source": [
    "def sum_divisors(number):\n",
    "# Initialize the appropriate variables\n",
    "  divisor= 1\n",
    "  total= 0\n",
    "\n",
    "  # Avoid dividing by 0 and negative numbers \n",
    "  # in the while loop by exiting the function\n",
    "  # if \"number\" is less than one\n",
    "  if number==0:\n",
    "    return 0 \n",
    "\n",
    "  # Complete the while loop\n",
    "  while divisor<number:\n",
    "    if number % divisor == 0:\n",
    "      total += divisor\n",
    "    # Increment the correct variable\n",
    "    divisor+= 1\n",
    "\n",
    "  # Return the correct variable \n",
    "  return total\n"
   ]
  },
  {
   "cell_type": "code",
   "execution_count": 14,
   "id": "3568009d",
   "metadata": {},
   "outputs": [
    {
     "name": "stdout",
     "output_type": "stream",
     "text": [
      "0\n",
      "1\n",
      "55\n",
      "114\n"
     ]
    }
   ],
   "source": [
    "\n",
    "print(sum_divisors(0)) # Should print 0\n",
    "print(sum_divisors(3)) # Should print 1\n",
    "# 1\n",
    "print(sum_divisors(36)) # Should print 1+2+3+4+6+9+12+18\n",
    "# 55\n",
    "print(sum_divisors(102)) # Should print 1+2+3+6+17+34+51\n",
    "# 114\n"
   ]
  },
  {
   "cell_type": "markdown",
   "id": "70884995",
   "metadata": {},
   "source": [
    "### for loop"
   ]
  },
  {
   "cell_type": "code",
   "execution_count": 15,
   "id": "da1aec51",
   "metadata": {
    "scrolled": true
   },
   "outputs": [
    {
     "name": "stdout",
     "output_type": "stream",
     "text": [
      "362880\n"
     ]
    }
   ],
   "source": [
    "x=1\n",
    "for n in range(1,10):\n",
    "    x*=n\n",
    "print(x)"
   ]
  },
  {
   "cell_type": "code",
   "execution_count": 16,
   "id": "e298152c",
   "metadata": {},
   "outputs": [
    {
     "name": "stdout",
     "output_type": "stream",
     "text": [
      "0 -17.77777777777778\n",
      "10 -12.222222222222221\n",
      "20 -6.666666666666667\n",
      "30 -1.1111111111111112\n",
      "40 4.444444444444445\n",
      "50 10.0\n",
      "60 15.555555555555555\n",
      "70 21.11111111111111\n",
      "80 26.666666666666668\n",
      "90 32.22222222222222\n",
      "100 37.77777777777778\n"
     ]
    }
   ],
   "source": [
    "def to_celsius(x):\n",
    "    return(x-32)*5/9\n",
    "for x in range(0,101,10):\n",
    "    print(x,to_celsius(x))\n"
   ]
  },
  {
   "cell_type": "code",
   "execution_count": 17,
   "id": "9e59d7cb",
   "metadata": {},
   "outputs": [
    {
     "name": "stdout",
     "output_type": "stream",
     "text": [
      "0\n",
      "1\n",
      "2\n",
      "3\n"
     ]
    }
   ],
   "source": [
    "for x in range(4):\n",
    "    print(x)"
   ]
  },
  {
   "cell_type": "code",
   "execution_count": 18,
   "id": "d3bb2b10",
   "metadata": {},
   "outputs": [
    {
     "name": "stdout",
     "output_type": "stream",
     "text": [
      "1\n",
      "2\n",
      "3\n",
      "4\n",
      "5\n",
      "6\n",
      "7\n",
      "8\n",
      "9\n"
     ]
    }
   ],
   "source": [
    "for x in range(1,10):\n",
    "    print(x)"
   ]
  },
  {
   "cell_type": "code",
   "execution_count": 19,
   "id": "d18ff14b",
   "metadata": {},
   "outputs": [
    {
     "name": "stdout",
     "output_type": "stream",
     "text": [
      "10\n",
      "20\n",
      "30\n",
      "40\n",
      "50\n",
      "60\n",
      "70\n",
      "80\n",
      "90\n",
      "100\n"
     ]
    }
   ],
   "source": [
    "for x in range(10,101,10):\n",
    "    print(x)"
   ]
  },
  {
   "cell_type": "markdown",
   "id": "90b13063",
   "metadata": {},
   "source": [
    "### nested for loop"
   ]
  },
  {
   "cell_type": "code",
   "execution_count": 20,
   "id": "ffde69b6",
   "metadata": {},
   "outputs": [
    {
     "name": "stdout",
     "output_type": "stream",
     "text": [
      "[ 0 | 0 ] \n",
      "[ 0 | 1 ] \n",
      "[ 0 | 2 ] \n",
      "[ 0 | 3 ] \n",
      "[ 0 | 4 ] \n",
      "[ 0 | 5 ] \n",
      "[ 0 | 6 ] \n",
      "[ 1 | 1 ] \n",
      "[ 1 | 2 ] \n",
      "[ 1 | 3 ] \n",
      "[ 1 | 4 ] \n",
      "[ 1 | 5 ] \n",
      "[ 1 | 6 ] \n",
      "[ 2 | 2 ] \n",
      "[ 2 | 3 ] \n",
      "[ 2 | 4 ] \n",
      "[ 2 | 5 ] \n",
      "[ 2 | 6 ] \n",
      "[ 3 | 3 ] \n",
      "[ 3 | 4 ] \n",
      "[ 3 | 5 ] \n",
      "[ 3 | 6 ] \n",
      "[ 4 | 4 ] \n",
      "[ 4 | 5 ] \n",
      "[ 4 | 6 ] \n",
      "[ 5 | 5 ] \n",
      "[ 5 | 6 ] \n",
      "[ 6 | 6 ] \n"
     ]
    }
   ],
   "source": [
    "for leftnum in range(7):\n",
    "    for rightnum in range(leftnum,7):\n",
    "        print('[',str(leftnum),'|',str(rightnum),']',end=\" \")\n",
    "        print()"
   ]
  },
  {
   "cell_type": "code",
   "execution_count": 21,
   "id": "66053960",
   "metadata": {},
   "outputs": [
    {
     "name": "stdout",
     "output_type": "stream",
     "text": [
      "lion vs tiger\n",
      "lion vs bear\n",
      "lion vs elephant\n",
      "tiger vs lion\n",
      "tiger vs bear\n",
      "tiger vs elephant\n",
      "bear vs lion\n",
      "bear vs tiger\n",
      "bear vs elephant\n",
      "elephant vs lion\n",
      "elephant vs tiger\n",
      "elephant vs bear\n"
     ]
    }
   ],
   "source": [
    "animals=['lion','tiger','bear','elephant']\n",
    "for samespecies in animals:\n",
    "    for differentspecies in animals:\n",
    "        if samespecies != differentspecies:\n",
    "            print(samespecies +' vs '+ differentspecies)"
   ]
  },
  {
   "cell_type": "code",
   "execution_count": 22,
   "id": "eb19fceb",
   "metadata": {},
   "outputs": [],
   "source": [
    "def greet_friends(friends):\n",
    "    for friend in friends:\n",
    "        print(\"hello  \"+friend)"
   ]
  },
  {
   "cell_type": "code",
   "execution_count": 23,
   "id": "a44a9eeb",
   "metadata": {},
   "outputs": [
    {
     "name": "stdout",
     "output_type": "stream",
     "text": [
      "hello  vaagdevi\n",
      "hello  sravanthi\n",
      "hello  nushrath\n",
      "hello  priya dharshini\n"
     ]
    }
   ],
   "source": [
    "greet_friends(['vaagdevi','sravanthi','nushrath','priya dharshini'])"
   ]
  },
  {
   "cell_type": "code",
   "execution_count": 24,
   "id": "6e857dc3",
   "metadata": {},
   "outputs": [
    {
     "name": "stdout",
     "output_type": "stream",
     "text": [
      "hello  H\n",
      "hello  A\n",
      "hello  R\n",
      "hello  I\n",
      "hello  N\n",
      "hello  I\n"
     ]
    }
   ],
   "source": [
    "greet_friends(\"HARINI\")"
   ]
  },
  {
   "cell_type": "code",
   "execution_count": 25,
   "id": "34b251eb",
   "metadata": {},
   "outputs": [],
   "source": [
    "#FOR LOOP SYNTAX\n",
    "#for variable in sequence:\n",
    "    #body of loop"
   ]
  },
  {
   "cell_type": "code",
   "execution_count": 26,
   "id": "0190ca54",
   "metadata": {},
   "outputs": [
    {
     "name": "stdout",
     "output_type": "stream",
     "text": [
      "the sum of both areas is:  30.0\n"
     ]
    }
   ],
   "source": [
    "def area_of_traingle(base,height):\n",
    "    return base*height/2\n",
    "area_a=area_of_traingle(9,4)\n",
    "area_b=area_of_traingle(8,3)\n",
    "sum=area_a+area_b\n",
    "print(\"the sum of both areas is: \",str(sum))\n"
   ]
  },
  {
   "cell_type": "code",
   "execution_count": 27,
   "id": "b39030a1",
   "metadata": {},
   "outputs": [],
   "source": [
    "def convert_seconds(seconds):\n",
    "    hours=seconds//3600\n",
    "    minutes=(seconds-hours*3600)//60\n",
    "    remaining_seconds=seconds-hours*3600-minutes*60\n",
    "    return hours,minutes,remaining_seconds"
   ]
  },
  {
   "cell_type": "code",
   "execution_count": 28,
   "id": "98788583",
   "metadata": {},
   "outputs": [
    {
     "data": {
      "text/plain": [
       "(13, 53, 20)"
      ]
     },
     "execution_count": 28,
     "metadata": {},
     "output_type": "execute_result"
    }
   ],
   "source": [
    "convert_seconds(50000)"
   ]
  },
  {
   "cell_type": "code",
   "execution_count": 29,
   "id": "1c27489c",
   "metadata": {},
   "outputs": [
    {
     "data": {
      "text/plain": [
       "(1, 23, 20)"
      ]
     },
     "execution_count": 29,
     "metadata": {},
     "output_type": "execute_result"
    }
   ],
   "source": [
    "convert_seconds(5000)"
   ]
  },
  {
   "cell_type": "code",
   "execution_count": 30,
   "id": "8cbe1f95",
   "metadata": {},
   "outputs": [
    {
     "name": "stdout",
     "output_type": "stream",
     "text": [
      "hours: 1 minutes: 23 seconds: 20\n"
     ]
    }
   ],
   "source": [
    "hours,minutes,seconds=convert_seconds(5000)\n",
    "print('hours:',hours,'minutes:',minutes,'seconds:',seconds)"
   ]
  },
  {
   "cell_type": "code",
   "execution_count": 31,
   "id": "fb6bff2d",
   "metadata": {},
   "outputs": [],
   "source": [
    "def greetings(name):\n",
    "    print('welcome',name)"
   ]
  },
  {
   "cell_type": "code",
   "execution_count": 32,
   "id": "c17150f7",
   "metadata": {},
   "outputs": [
    {
     "name": "stdout",
     "output_type": "stream",
     "text": [
      "welcome honey\n"
     ]
    }
   ],
   "source": [
    "greetings('honey')"
   ]
  },
  {
   "cell_type": "code",
   "execution_count": 33,
   "id": "c6e0f1e7",
   "metadata": {},
   "outputs": [
    {
     "name": "stdout",
     "output_type": "stream",
     "text": [
      "welcome friend\n",
      "None\n"
     ]
    }
   ],
   "source": [
    "result=greetings('friend')\n",
    "print(result)"
   ]
  },
  {
   "cell_type": "code",
   "execution_count": 34,
   "id": "3adc10c5",
   "metadata": {},
   "outputs": [],
   "source": [
    "def hint_username(username):\n",
    "    if len(username) < 3:\n",
    "         print(\"Invalid username. Must be at least 3 characters long\")\n",
    "    else:\n",
    "         print('valid username')"
   ]
  },
  {
   "cell_type": "code",
   "execution_count": 35,
   "id": "bb72ea4d-5ec3-46c1-b172-bf0720ad5694",
   "metadata": {},
   "outputs": [
    {
     "name": "stdout",
     "output_type": "stream",
     "text": [
      "valid username\n"
     ]
    }
   ],
   "source": [
    "hint_username('aishwarya')"
   ]
  },
  {
   "cell_type": "code",
   "execution_count": 36,
   "id": "798129df-07d6-4870-916e-b1499943e656",
   "metadata": {},
   "outputs": [
    {
     "data": {
      "text/plain": [
       "True"
      ]
     },
     "execution_count": 36,
     "metadata": {},
     "output_type": "execute_result"
    }
   ],
   "source": [
    "def is_even(number):\n",
    "    if number % 2 == 0:\n",
    "        return True\n",
    "    return False\n",
    "is_even(6)"
   ]
  },
  {
   "cell_type": "markdown",
   "id": "e86cd226-4169-488a-9c20-5ec08344d8c7",
   "metadata": {},
   "source": [
    "### while loop"
   ]
  },
  {
   "cell_type": "code",
   "execution_count": 37,
   "id": "f9a5e0a5-61ea-4ef0-9471-fc43d5d1053d",
   "metadata": {},
   "outputs": [
    {
     "name": "stdout",
     "output_type": "stream",
     "text": [
      "Not there yet, x=0\n",
      "Not there yet, x=1\n",
      "Not there yet, x=2\n",
      "Not there yet, x=3\n",
      "Not there yet, x=4\n",
      "Not there yet, x=5\n",
      "x=6\n"
     ]
    }
   ],
   "source": [
    "x =   0\n",
    "while x < 6:\n",
    "    print(\"Not there yet, x=\" + str(x))\n",
    "    x = x + 1\n",
    "print(\"x=\" + str(x))"
   ]
  },
  {
   "cell_type": "code",
   "execution_count": 1,
   "id": "c5951e7c-9977-4eb8-a448-98cc7817c551",
   "metadata": {},
   "outputs": [],
   "source": [
    "x=1\n",
    "sum=0\n",
    "while x<10:\n",
    "    sum = sum + x\n",
    "    x=x+1\n",
    "\n",
    "    "
   ]
  },
  {
   "cell_type": "code",
   "execution_count": 39,
   "id": "e0a8f76d-53dc-44d6-b41b-60dc6c6d399e",
   "metadata": {},
   "outputs": [
    {
     "name": "stdout",
     "output_type": "stream",
     "text": [
      "10 45\n"
     ]
    }
   ],
   "source": [
    "print(x,sum)"
   ]
  },
  {
   "cell_type": "code",
   "execution_count": 40,
   "id": "f85d474e-abae-4591-b1bd-86363b84ab99",
   "metadata": {},
   "outputs": [
    {
     "data": {
      "text/plain": [
       "45"
      ]
     },
     "execution_count": 40,
     "metadata": {},
     "output_type": "execute_result"
    }
   ],
   "source": [
    "1+2+3+4+5+6+7+8+9"
   ]
  },
  {
   "cell_type": "code",
   "execution_count": 41,
   "id": "f02aa53c-8273-47d6-a91a-b63161c3320e",
   "metadata": {},
   "outputs": [],
   "source": [
    "product=1\n",
    "while x<10:\n",
    "    product=product*x\n",
    "    x=x+1"
   ]
  },
  {
   "cell_type": "code",
   "execution_count": 42,
   "id": "a2e9aafd-737a-437c-9273-1902344c0247",
   "metadata": {},
   "outputs": [
    {
     "name": "stdout",
     "output_type": "stream",
     "text": [
      "1\n"
     ]
    }
   ],
   "source": [
    "print(product)"
   ]
  },
  {
   "cell_type": "code",
   "execution_count": 43,
   "id": "86b3576c-f778-42a9-860c-cc0554243a8c",
   "metadata": {},
   "outputs": [
    {
     "data": {
      "text/plain": [
       "10"
      ]
     },
     "execution_count": 43,
     "metadata": {},
     "output_type": "execute_result"
    }
   ],
   "source": [
    "x"
   ]
  },
  {
   "cell_type": "code",
   "execution_count": 44,
   "id": "e2432598-f4f9-45cc-af14-eb414fd46888",
   "metadata": {},
   "outputs": [
    {
     "name": "stdout",
     "output_type": "stream",
     "text": [
      "5.0\n"
     ]
    }
   ],
   "source": [
    "if x !=0:\n",
    "    while x%2 == 0:\n",
    "         x=x/2\n",
    "print(x)"
   ]
  },
  {
   "cell_type": "code",
   "execution_count": 45,
   "id": "07b20759-4e4a-4987-b34f-56f9eff61d25",
   "metadata": {},
   "outputs": [
    {
     "name": "stdout",
     "output_type": "stream",
     "text": [
      "8.0\n",
      "4.0\n",
      "2.0\n",
      "1.0\n"
     ]
    }
   ],
   "source": [
    "y=16\n",
    "while y!=0 and y%2==0:\n",
    "    y=y/2\n",
    "    print(y)"
   ]
  },
  {
   "cell_type": "code",
   "execution_count": 46,
   "id": "2826b102-f2e5-4e9c-b6aa-aaca267d93f0",
   "metadata": {},
   "outputs": [
    {
     "name": "stdout",
     "output_type": "stream",
     "text": [
      "5.0\n"
     ]
    }
   ],
   "source": [
    "print (x)"
   ]
  },
  {
   "cell_type": "markdown",
   "id": "cdf8ffd7-fe29-4eeb-b5d4-018c5dcdcfa8",
   "metadata": {},
   "source": [
    "### for loop"
   ]
  },
  {
   "cell_type": "code",
   "execution_count": 47,
   "id": "52804e15-7665-455b-8e9e-1b33e4d3d996",
   "metadata": {},
   "outputs": [
    {
     "name": "stdout",
     "output_type": "stream",
     "text": [
      "0\n",
      "1\n",
      "2\n",
      "3\n",
      "4\n"
     ]
    }
   ],
   "source": [
    "for x in range(5):\n",
    "    print(x)\n"
   ]
  },
  {
   "cell_type": "code",
   "execution_count": 48,
   "id": "91828bea-e8d3-4165-8f26-87d24bd66440",
   "metadata": {},
   "outputs": [
    {
     "name": "stdout",
     "output_type": "stream",
     "text": [
      "hlo sravanthi\n",
      "hlo vaagdevi\n",
      "hlo aishwarya\n"
     ]
    }
   ],
   "source": [
    "happy3=['sravanthi','vaagdevi','aishwarya']\n",
    "for happy in happy3:\n",
    "    print('hlo '+ happy)"
   ]
  },
  {
   "cell_type": "code",
   "execution_count": 49,
   "id": "dd6ae514-8465-4f26-9a5a-2d189e8c89dc",
   "metadata": {},
   "outputs": [
    {
     "name": "stdout",
     "output_type": "stream",
     "text": [
      "Total sum: 219 - Average: 43.8\n"
     ]
    }
   ],
   "source": [
    "values = [ 23, 52, 59, 37, 48 ]\n",
    "sum = 0\n",
    "length = 0\n",
    "for value in values:\n",
    "    sum += value\n",
    "    length += 1\n",
    "\n",
    "print(\"Total sum: \" + str(sum) + \" - Average: \" + str(sum/length))"
   ]
  },
  {
   "cell_type": "code",
   "execution_count": 50,
   "id": "ecd22f90-0942-4b6a-814b-1237d06592c0",
   "metadata": {},
   "outputs": [
    {
     "name": "stdout",
     "output_type": "stream",
     "text": [
      "sum = 260       avg = 52.0\n"
     ]
    }
   ],
   "source": [
    "nums=[25,56,78,34,67]\n",
    "sum=0\n",
    "length=0\n",
    "for num in nums:\n",
    "    sum+=num\n",
    "    length+=1\n",
    "print('sum =',str(sum),'      avg =',str(sum/length))"
   ]
  },
  {
   "cell_type": "code",
   "execution_count": 51,
   "id": "facbaaee-cfe2-4fd2-807f-85f469e11d2f",
   "metadata": {},
   "outputs": [
    {
     "name": "stdout",
     "output_type": "stream",
     "text": [
      "peacock vs pigeon\n",
      "peacock vs crow\n",
      "peacock vs parrot\n",
      "pigeon vs peacock\n",
      "pigeon vs crow\n",
      "pigeon vs parrot\n",
      "crow vs peacock\n",
      "crow vs pigeon\n",
      "crow vs parrot\n",
      "parrot vs peacock\n",
      "parrot vs pigeon\n",
      "parrot vs crow\n"
     ]
    }
   ],
   "source": [
    "birds=['peacock','pigeon','crow','parrot']\n",
    "for rare_birds in birds:\n",
    "    for notrare_birds in birds:\n",
    "        if (rare_birds != notrare_birds):\n",
    "            print(rare_birds+\" vs \"+notrare_birds)"
   ]
  },
  {
   "cell_type": "code",
   "execution_count": 52,
   "id": "b040d61d-4a32-48eb-b14d-1576e3edd052",
   "metadata": {},
   "outputs": [
    {
     "name": "stdout",
     "output_type": "stream",
     "text": [
      "a\n",
      "n\n",
      "y\n",
      "a\n",
      "s\n",
      "e\n",
      "y\n",
      "o\n"
     ]
    }
   ],
   "source": [
    "greeting='anyaseyo'\n",
    "for char in greeting:\n",
    "    print(char)"
   ]
  },
  {
   "cell_type": "code",
   "execution_count": 53,
   "id": "05581469-b0ff-4bf0-8239-892a248a03f3",
   "metadata": {},
   "outputs": [
    {
     "name": "stdout",
     "output_type": "stream",
     "text": [
      "j\n",
      "a\n",
      "i\n",
      " \n",
      "h\n",
      "a\n",
      "n\n",
      "u\n",
      "m\n",
      "a\n",
      "n\n"
     ]
    }
   ],
   "source": [
    "name='jai hanuman'\n",
    "index=0\n",
    "while index<len(name):\n",
    "    print(name[index:index+1])\n",
    "    index+=1"
   ]
  },
  {
   "cell_type": "code",
   "execution_count": 54,
   "id": "5573dd59-fc8b-4aed-933b-9e501daa85d5",
   "metadata": {},
   "outputs": [
    {
     "name": "stdout",
     "output_type": "stream",
     "text": [
      "[625, 441, 100]\n"
     ]
    }
   ],
   "source": [
    "numbers=[25,21,10]\n",
    "sq_numbers=[x**2 for x in numbers]\n",
    "print(sq_numbers)"
   ]
  },
  {
   "cell_type": "markdown",
   "id": "cb955f6c-b55c-493d-9657-47394ab850ed",
   "metadata": {},
   "source": [
    "### recursion"
   ]
  },
  {
   "cell_type": "code",
   "execution_count": 55,
   "id": "1d1e7e03-7d58-4075-9bfd-4f9920a2dc3b",
   "metadata": {},
   "outputs": [],
   "source": [
    "def factorial(n):\n",
    "    if n<2:\n",
    "        return 1\n",
    "    return n*factorial(n-1)"
   ]
  },
  {
   "cell_type": "code",
   "execution_count": 56,
   "id": "d50d8353-a020-4342-aa8b-3dbffc3c2ce4",
   "metadata": {},
   "outputs": [
    {
     "data": {
      "text/plain": [
       "120"
      ]
     },
     "execution_count": 56,
     "metadata": {},
     "output_type": "execute_result"
    }
   ],
   "source": [
    "factorial(5)"
   ]
  },
  {
   "cell_type": "markdown",
   "id": "ad7427e3-8438-466b-af3d-49fcc1bb7ea6",
   "metadata": {},
   "source": [
    "### for loop with range"
   ]
  },
  {
   "cell_type": "code",
   "execution_count": 57,
   "id": "eacff605-a1ff-46d7-aabc-a5ca6f6f96a3",
   "metadata": {},
   "outputs": [
    {
     "name": "stdout",
     "output_type": "stream",
     "text": [
      "0 10 20 30 40 50 60 70 80 90 100 110 120 130 140 150 160 170 180 190 200\n"
     ]
    }
   ],
   "source": [
    "def count_by_10(end):\n",
    "    count=\"\"\n",
    "    for number in range(0,end+1,10):\n",
    "        count +=str(number)+\" \"\n",
    "    return count.strip()\n",
    "print(count_by_10(200))"
   ]
  },
  {
   "cell_type": "code",
   "execution_count": 58,
   "id": "080e5076-63ae-4001-9d14-3c875b289609",
   "metadata": {},
   "outputs": [],
   "source": [
    "def matrix(initial_num,end_of_first_row):\n",
    "    n1=initial_num\n",
    "    n2=end_of_first_row+1\n",
    "    for column in range(n1,n2):\n",
    "        for row in range(n1,n2):\n",
    "            print(column*row,end=\" \")\n",
    "        print()"
   ]
  },
  {
   "cell_type": "code",
   "execution_count": 59,
   "id": "90a0e093-4607-4aa2-bf9b-a902f23bfce9",
   "metadata": {},
   "outputs": [
    {
     "name": "stdout",
     "output_type": "stream",
     "text": [
      "1 2 3 4 \n",
      "2 4 6 8 \n",
      "3 6 9 12 \n",
      "4 8 12 16 \n"
     ]
    }
   ],
   "source": [
    "matrix(1,4)"
   ]
  },
  {
   "cell_type": "code",
   "execution_count": 60,
   "id": "18fcd984-0b33-4169-a815-30b233e19d14",
   "metadata": {},
   "outputs": [
    {
     "name": "stdout",
     "output_type": "stream",
     "text": [
      "0\n",
      "0\n",
      "1\n",
      "0\n",
      "1\n",
      "2\n",
      "0\n",
      "1\n",
      "2\n",
      "3\n"
     ]
    }
   ],
   "source": [
    "for outer_loop in range(5):\n",
    "    for inner_loop in range(outer_loop):\n",
    "        print(inner_loop)"
   ]
  },
  {
   "cell_type": "code",
   "execution_count": 61,
   "id": "9150f8d5-c500-4ba6-a709-9e40052f4722",
   "metadata": {},
   "outputs": [
    {
     "name": "stdout",
     "output_type": "stream",
     "text": [
      "11 9 7 5 3 1 "
     ]
    }
   ],
   "source": [
    "for n in range(11,0,-2):\n",
    "    if n%2 !=0:\n",
    "        print(n,end=\" \")"
   ]
  },
  {
   "cell_type": "code",
   "execution_count": 62,
   "id": "19b1b2c4-8e96-4223-9c1b-e8b658cd1d4d",
   "metadata": {},
   "outputs": [
    {
     "name": "stdout",
     "output_type": "stream",
     "text": [
      "20 16 12 8 4 0 "
     ]
    }
   ],
   "source": [
    "start_num=20\n",
    "while start_num>=0:\n",
    "    print(start_num,end=\" \")\n",
    "    start_num -= 4"
   ]
  },
  {
   "cell_type": "code",
   "execution_count": 63,
   "id": "4b620f7d-d302-43b3-b71d-1f251b12bce5",
   "metadata": {},
   "outputs": [
    {
     "name": "stdout",
     "output_type": "stream",
     "text": [
      "the CEO has a None- fig salary.\n"
     ]
    }
   ],
   "source": [
    "def xfig(salary):\n",
    "    tally=0\n",
    "    if salary == 0:\n",
    "        tally += 1\n",
    "        while salary>=1:\n",
    "            salary=salary/10\n",
    "            tally += 1\n",
    "        return tally\n",
    "print(\"the CEO has a \"+ str(xfig(5000000)) +\"- fig salary.\")"
   ]
  },
  {
   "cell_type": "code",
   "execution_count": 64,
   "id": "2540fee0-69ea-4923-bfcc-ce0e95c8c6a5",
   "metadata": {},
   "outputs": [
    {
     "data": {
      "text/plain": [
       "8.470588235294118"
      ]
     },
     "execution_count": 64,
     "metadata": {},
     "output_type": "execute_result"
    }
   ],
   "source": [
    "144/17"
   ]
  },
  {
   "cell_type": "code",
   "execution_count": 1,
   "id": "91d182f4-21b2-4722-bfc4-224b78b8fb31",
   "metadata": {},
   "outputs": [],
   "source": [
    "def test_code(num):\n",
    "  x = num\n",
    "  while x % 2 == 0:\n",
    "    x = x / 2"
   ]
  },
  {
   "cell_type": "code",
   "execution_count": 8,
   "id": "60edb0cc-dce1-46c9-b841-8f4739b79e3f",
   "metadata": {},
   "outputs": [],
   "source": [
    "file=open(\"file.txt\",\"w\")\n",
    "file.write(\"data inside file.\")\n",
    "#close opend file\n",
    "file.close()"
   ]
  },
  {
   "cell_type": "code",
   "execution_count": 9,
   "id": "ec77254e-6721-474a-9078-54101a542742",
   "metadata": {},
   "outputs": [],
   "source": [
    "file=open(\"file.txt\",\"w\")\n",
    "file.write(\"python is a great language.\\n yeah its great!!\\n\")\n",
    "#close opend file\n",
    "file.close()"
   ]
  },
  {
   "cell_type": "code",
   "execution_count": 10,
   "id": "f9e8e501-d090-4acd-8fd3-85cce2bdce69",
   "metadata": {},
   "outputs": [
    {
     "name": "stdout",
     "output_type": "stream",
     "text": [
      "read string is: python is a great language.\n",
      " yeah its great!!\n",
      "\n"
     ]
    }
   ],
   "source": [
    "#open a file \n",
    "file=open(\"file.txt\",\"r+\")\n",
    "str=file.read(50)\n",
    "print(\"read string is:\",str)\n",
    "#close opend file\n",
    "file.close()"
   ]
  },
  {
   "cell_type": "code",
   "execution_count": 17,
   "id": "d7b80236-ccfd-4b88-8161-21544ccebe1a",
   "metadata": {},
   "outputs": [
    {
     "name": "stdout",
     "output_type": "stream",
     "text": [
      "read string is: python is a great language\n",
      "current file position: 26\n",
      "again read string is: python is a great language.\n",
      " yeah its great!!\n",
      "\n"
     ]
    }
   ],
   "source": [
    "#open a file\n",
    "file=open(\"file.txt\",\"r+\")\n",
    "str=file.read(26)\n",
    "print(\"read string is:\",str)\n",
    "#check current position\n",
    "position =file.tell();\n",
    "print(\"current file position:\",position)\n",
    "#reposition pointer at the begining once again\n",
    "position=file.seek(0,0);\n",
    "str=file.read(50);\n",
    "print(\"again read string is:\",str)\n",
    "#close opend file\n",
    "file.close()"
   ]
  },
  {
   "cell_type": "code",
   "execution_count": null,
   "id": "8cad7446-df79-48d6-87c2-b236e0e875cb",
   "metadata": {},
   "outputs": [],
   "source": []
  },
  {
   "cell_type": "code",
   "execution_count": null,
   "id": "c4515784-aca8-483b-bada-f9f7ea829b24",
   "metadata": {},
   "outputs": [],
   "source": []
  }
 ],
 "metadata": {
  "kernelspec": {
   "display_name": "Python 3 (ipykernel)",
   "language": "python",
   "name": "python3"
  },
  "language_info": {
   "codemirror_mode": {
    "name": "ipython",
    "version": 3
   },
   "file_extension": ".py",
   "mimetype": "text/x-python",
   "name": "python",
   "nbconvert_exporter": "python",
   "pygments_lexer": "ipython3",
   "version": "3.11.7"
  }
 },
 "nbformat": 4,
 "nbformat_minor": 5
}
