{
 "cells": [
  {
   "cell_type": "markdown",
   "id": "2621e969-eaaa-41d9-a8d6-65b8e98e5f96",
   "metadata": {},
   "source": [
    "### break"
   ]
  },
  {
   "cell_type": "code",
   "execution_count": 1,
   "id": "069d0456-ed9b-4ee9-92d8-9a0af0dc23fb",
   "metadata": {},
   "outputs": [
    {
     "name": "stdin",
     "output_type": "stream",
     "text": [
      "how many flowers do you need from the garden? 9\n"
     ]
    },
    {
     "name": "stdout",
     "output_type": "stream",
     "text": [
      "flower\n",
      "flower\n",
      "flower\n",
      "flower\n",
      "flower\n",
      "flower\n",
      "flower\n",
      "no more flowers in garden\n",
      "bye\n"
     ]
    }
   ],
   "source": [
    "avail=7\n",
    "k=int(input(\"how many flowers do you need from the garden?\"))\n",
    "i=1\n",
    "while i<=k:\n",
    "    if i>avail:\n",
    "        break\n",
    "    print(\"flower\")\n",
    "    i+=1\n",
    "print(\"no more flowers in garden\")\n",
    "print(\"bye\")\n"
   ]
  },
  {
   "cell_type": "markdown",
   "id": "a251691c-6af9-424c-84a7-c0f7c097c533",
   "metadata": {},
   "source": [
    "### continue"
   ]
  },
  {
   "cell_type": "code",
   "execution_count": 3,
   "id": "3d473de3-acf0-4ded-8cda-d83da6bbaf9f",
   "metadata": {},
   "outputs": [
    {
     "name": "stdout",
     "output_type": "stream",
     "text": [
      "1\n",
      "3\n",
      "5\n",
      "7\n",
      "9\n",
      "11\n",
      "13\n",
      "15\n",
      "17\n",
      "19\n",
      "21\n",
      "23\n",
      "25\n",
      "27\n",
      "29\n",
      "31\n",
      "33\n",
      "35\n",
      "37\n",
      "39\n",
      "41\n",
      "43\n",
      "45\n",
      "47\n",
      "49\n",
      "51\n",
      "53\n",
      "55\n",
      "57\n",
      "59\n",
      "61\n",
      "63\n",
      "65\n",
      "67\n",
      "69\n",
      "71\n",
      "73\n",
      "75\n",
      "77\n",
      "79\n",
      "81\n",
      "83\n",
      "85\n",
      "87\n",
      "89\n",
      "91\n",
      "93\n",
      "95\n",
      "97\n",
      "99\n",
      "bye\n"
     ]
    }
   ],
   "source": [
    "for i in range(1,101):\n",
    "    if i%2==0:\n",
    "        continue\n",
    "    print(i)\n",
    "print(\"bye\")"
   ]
  },
  {
   "cell_type": "code",
   "execution_count": 4,
   "id": "8abafbf5-fd2d-4197-8100-a6dac4c3c937",
   "metadata": {},
   "outputs": [
    {
     "name": "stdout",
     "output_type": "stream",
     "text": [
      "1\n",
      "5\n",
      "7\n",
      "11\n",
      "13\n",
      "17\n",
      "19\n",
      "23\n",
      "25\n",
      "29\n",
      "31\n",
      "35\n",
      "37\n",
      "41\n",
      "43\n",
      "47\n",
      "49\n",
      "53\n",
      "55\n",
      "59\n",
      "61\n",
      "65\n",
      "67\n",
      "71\n",
      "73\n",
      "77\n",
      "79\n",
      "83\n",
      "85\n",
      "89\n",
      "91\n",
      "95\n",
      "97\n",
      "bye\n"
     ]
    }
   ],
   "source": [
    "for i in range(1,101):\n",
    "    if i%2==0 or i%3==0:\n",
    "        continue\n",
    "    print(i)\n",
    "print(\"bye\")"
   ]
  },
  {
   "cell_type": "code",
   "execution_count": 7,
   "id": "4e911e13-4704-49e2-8f4a-ef94e2c32b06",
   "metadata": {},
   "outputs": [
    {
     "name": "stdout",
     "output_type": "stream",
     "text": [
      "1\n",
      "2\n",
      "3\n",
      "4\n",
      "5\n",
      "6\n",
      "7\n",
      "8\n",
      "9\n",
      "10\n",
      "11\n",
      "13\n",
      "14\n",
      "15\n",
      "16\n",
      "17\n",
      "18\n",
      "19\n",
      "20\n",
      "bye\n"
     ]
    }
   ],
   "source": [
    "for i in range(1,21):\n",
    "    if i%4==0 and i%3==0:\n",
    "        continue\n",
    "    print(i)\n",
    "print(\"bye\")"
   ]
  },
  {
   "cell_type": "markdown",
   "id": "2f746cb9-b19c-4351-90b5-682f05fa7d01",
   "metadata": {},
   "source": [
    "### pass"
   ]
  },
  {
   "cell_type": "code",
   "execution_count": 8,
   "id": "3a860c30-1011-4f2d-b5c3-9f27a98d5e96",
   "metadata": {},
   "outputs": [
    {
     "name": "stdout",
     "output_type": "stream",
     "text": [
      "1\n",
      "3\n",
      "5\n",
      "7\n",
      "9\n",
      "bye\n"
     ]
    }
   ],
   "source": [
    "for i in range(1,11):\n",
    "    if(i%2==0):\n",
    "        pass\n",
    "    else:\n",
    "        print(i)\n",
    "print(\"bye\")"
   ]
  },
  {
   "cell_type": "markdown",
   "id": "0e2a0347-bb15-4f24-b2e1-82e10ee1fc48",
   "metadata": {},
   "source": [
    "### prime number or not"
   ]
  },
  {
   "cell_type": "code",
   "execution_count": 9,
   "id": "947ea8f9-218c-4a04-a88e-cc124987e12a",
   "metadata": {},
   "outputs": [
    {
     "name": "stdin",
     "output_type": "stream",
     "text": [
      "enter a number: 6\n"
     ]
    },
    {
     "name": "stdout",
     "output_type": "stream",
     "text": [
      "not prime\n"
     ]
    }
   ],
   "source": [
    "num=int(input(\"enter a number:\"))\n",
    "for i in range(2,num):\n",
    "    if num%i==0:\n",
    "        print(\"not prime\")\n",
    "        break\n",
    "else:\n",
    "    print(\"prime\")"
   ]
  },
  {
   "cell_type": "code",
   "execution_count": 10,
   "id": "7eef2ba1-4a80-4046-89b9-b5f93b5cc642",
   "metadata": {},
   "outputs": [
    {
     "name": "stdin",
     "output_type": "stream",
     "text": [
      "enter a number: 7\n"
     ]
    },
    {
     "name": "stdout",
     "output_type": "stream",
     "text": [
      "prime\n"
     ]
    }
   ],
   "source": [
    "num=int(input(\"enter a number:\"))\n",
    "for i in range(2,num):\n",
    "    if num%i==0:\n",
    "        print(\"not prime\")\n",
    "        break\n",
    "else:\n",
    "    print(\"prime\")\n"
   ]
  },
  {
   "cell_type": "markdown",
   "id": "38718a2a-09a0-474c-8b9d-9d1330f80621",
   "metadata": {},
   "source": [
    "### printing patterns"
   ]
  },
  {
   "cell_type": "code",
   "execution_count": 11,
   "id": "c0f57b8c-1da0-4adc-b67a-9408d6109e5b",
   "metadata": {},
   "outputs": [
    {
     "name": "stdin",
     "output_type": "stream",
     "text": [
      "enter a number: 5\n"
     ]
    },
    {
     "name": "stdout",
     "output_type": "stream",
     "text": [
      "#  #  #  #  #  \n",
      "#  #  #  #  #  \n",
      "#  #  #  #  #  \n",
      "#  #  #  #  #  \n",
      "#  #  #  #  #  \n"
     ]
    }
   ],
   "source": [
    "num=int(input(\"enter a number:\"))\n",
    "for i in range (num):\n",
    "    for j in range(num):\n",
    "        print(\"# \",end=\" \")\n",
    "    print()"
   ]
  },
  {
   "cell_type": "code",
   "execution_count": 12,
   "id": "65a71fbf-8b56-4966-8d10-2c7a72970c3d",
   "metadata": {},
   "outputs": [
    {
     "name": "stdin",
     "output_type": "stream",
     "text": [
      "enter a number: 5\n"
     ]
    },
    {
     "name": "stdout",
     "output_type": "stream",
     "text": [
      "\n",
      "#  \n",
      "#  #  \n",
      "#  #  #  \n",
      "#  #  #  #  \n"
     ]
    }
   ],
   "source": [
    "num=int(input(\"enter a number:\"))\n",
    "for i in range(num):\n",
    "    for j in range(i):\n",
    "        print(\"# \",end=\" \")\n",
    "    print()"
   ]
  },
  {
   "cell_type": "code",
   "execution_count": 14,
   "id": "9855bc6c-9f14-4003-9930-34e94d886495",
   "metadata": {},
   "outputs": [
    {
     "name": "stdin",
     "output_type": "stream",
     "text": [
      "enter a number: 5\n"
     ]
    },
    {
     "name": "stdout",
     "output_type": "stream",
     "text": [
      "+  +  +  +  +  \n",
      "+  +  +  +  \n",
      "+  +  +  \n",
      "+  +  \n",
      "+  \n"
     ]
    }
   ],
   "source": [
    "num=int(input(\"enter a number:\"))\n",
    "for i in range(num):\n",
    "    for j in range(num-i):\n",
    "        print(\"+ \",end=\" \")\n",
    "    print()"
   ]
  },
  {
   "cell_type": "markdown",
   "id": "e0e42809-e6f0-47d9-b20c-9618190e2d48",
   "metadata": {},
   "source": [
    "### for else"
   ]
  },
  {
   "cell_type": "code",
   "execution_count": 17,
   "id": "a90f99c4-5df9-4a24-b593-d4602658ef43",
   "metadata": {},
   "outputs": [
    {
     "name": "stdout",
     "output_type": "stream",
     "text": [
      "15\n",
      "18\n"
     ]
    }
   ],
   "source": [
    "num=[13,14,15,16,17,18,19,20]\n",
    "for i in num:\n",
    "    if i%3==0:\n",
    "        print(i)"
   ]
  },
  {
   "cell_type": "code",
   "execution_count": 19,
   "id": "1912afc4-7e6b-4c11-97f3-62d0753997e3",
   "metadata": {},
   "outputs": [
    {
     "name": "stdout",
     "output_type": "stream",
     "text": [
      "15\n"
     ]
    }
   ],
   "source": [
    "num=[13,14,15,16,17,18,19,20]\n",
    "for i in num:\n",
    "    if i%3==0:\n",
    "        print(i)\n",
    "        break\n",
    "else:\n",
    "    print(\"not found in the list...\")"
   ]
  },
  {
   "cell_type": "code",
   "execution_count": 20,
   "id": "2581ab74-73e7-4c50-b2f1-4430c10f047f",
   "metadata": {},
   "outputs": [
    {
     "name": "stdout",
     "output_type": "stream",
     "text": [
      "not found in the list...\n"
     ]
    }
   ],
   "source": [
    "num=[13,14,16,17,19,20]\n",
    "for i in num:\n",
    "    if i%3==0:\n",
    "        print(i)\n",
    "        break\n",
    "else:\n",
    "    print(\"not found in the list...\")"
   ]
  },
  {
   "cell_type": "code",
   "execution_count": 1,
   "id": "4a6739df-0b3a-4827-a923-4a44eff4b22e",
   "metadata": {},
   "outputs": [
    {
     "ename": "SyntaxError",
     "evalue": "invalid syntax (411310595.py, line 1)",
     "output_type": "error",
     "traceback": [
      "\u001b[1;36m  Cell \u001b[1;32mIn[1], line 1\u001b[1;36m\u001b[0m\n\u001b[1;33m    maaredu kaaya\u001b[0m\n\u001b[1;37m            ^\u001b[0m\n\u001b[1;31mSyntaxError\u001b[0m\u001b[1;31m:\u001b[0m invalid syntax\n"
     ]
    }
   ],
   "source": [
    "maaredu kaaya"
   ]
  },
  {
   "cell_type": "code",
   "execution_count": 2,
   "id": "ec261dce-7bfb-4652-a1f1-0fa5d5e22994",
   "metadata": {},
   "outputs": [
    {
     "name": "stdout",
     "output_type": "stream",
     "text": [
      "array('i', [1, 3, 5, 7, 9])\n"
     ]
    }
   ],
   "source": [
    "from array import*\n",
    "vals=array('i',[1,3,5,7,9])\n",
    "print(vals)"
   ]
  },
  {
   "cell_type": "code",
   "execution_count": 8,
   "id": "cbfb104d-acc1-4f7c-86f4-c28d8ee05142",
   "metadata": {},
   "outputs": [
    {
     "name": "stdout",
     "output_type": "stream",
     "text": [
      "(2424145228368, 5)\n"
     ]
    }
   ],
   "source": [
    "from array import*\n",
    "vals=array('i',[1,2,3,4,6])\n",
    "print(vals.buffer_info())"
   ]
  },
  {
   "cell_type": "code",
   "execution_count": 9,
   "id": "c1ace80f-ea3b-4914-85e5-e6b18420e4f4",
   "metadata": {},
   "outputs": [
    {
     "name": "stdout",
     "output_type": "stream",
     "text": [
      "i\n"
     ]
    }
   ],
   "source": [
    "print(vals.typecode)"
   ]
  },
  {
   "cell_type": "code",
   "execution_count": 10,
   "id": "4ddd67fe-1061-4bef-b09e-32c0aae6e34f",
   "metadata": {},
   "outputs": [
    {
     "name": "stdout",
     "output_type": "stream",
     "text": [
      "1\n",
      "2\n",
      "3\n",
      "4\n",
      "6\n"
     ]
    }
   ],
   "source": [
    "for i in vals:\n",
    "    print(i)\n",
    "    "
   ]
  },
  {
   "cell_type": "code",
   "execution_count": 26,
   "id": "4e813786-13cd-47f0-8dd1-c56e2916a6a5",
   "metadata": {},
   "outputs": [
    {
     "name": "stdout",
     "output_type": "stream",
     "text": [
      "('u', ['A', 'b', 'C', 'd'])\n"
     ]
    }
   ],
   "source": [
    "import array as A\n",
    "A=('u',['A','b','C','d'])\n",
    "print(A)"
   ]
  },
  {
   "cell_type": "code",
   "execution_count": 27,
   "id": "39158d00-e8a3-41a9-bd13-e71cfcde01a0",
   "metadata": {},
   "outputs": [
    {
     "name": "stdout",
     "output_type": "stream",
     "text": [
      "u\n",
      "['A', 'b', 'C', 'd']\n"
     ]
    }
   ],
   "source": [
    "for i in A:\n",
    "    print(i)"
   ]
  },
  {
   "cell_type": "code",
   "execution_count": 25,
   "id": "2f6ed91d-40ba-4f9d-8c40-b87831210119",
   "metadata": {},
   "outputs": [
    {
     "data": {
      "text/plain": [
       "module"
      ]
     },
     "execution_count": 25,
     "metadata": {},
     "output_type": "execute_result"
    }
   ],
   "source": [
    "type(arr)"
   ]
  },
  {
   "cell_type": "code",
   "execution_count": 13,
   "id": "6fc4fdd6-dfe3-4b57-bd9c-c2746273c388",
   "metadata": {},
   "outputs": [
    {
     "name": "stdout",
     "output_type": "stream",
     "text": [
      "a\n",
      "b\n",
      "c\n",
      "d\n"
     ]
    }
   ],
   "source": [
    "from array import*\n",
    "A=array('u',['a','b','c','d'])\n",
    "newA=array(A.typecode,(a for a in A))\n",
    "for e in newA:\n",
    "    print(e)"
   ]
  },
  {
   "cell_type": "code",
   "execution_count": 14,
   "id": "40bdc4c7-38ea-4987-9d72-07110e07a65e",
   "metadata": {},
   "outputs": [
    {
     "name": "stdout",
     "output_type": "stream",
     "text": [
      "a\n",
      "b\n",
      "c\n",
      "d\n"
     ]
    }
   ],
   "source": [
    "i=0\n",
    "while i<len(newA):\n",
    "    print(newA[i])\n",
    "    i+=1"
   ]
  },
  {
   "cell_type": "code",
   "execution_count": 15,
   "id": "8b700f81-4d9d-4e32-95cb-04f922f3372a",
   "metadata": {},
   "outputs": [
    {
     "name": "stdout",
     "output_type": "stream",
     "text": [
      "a\n",
      "b\n",
      "c\n",
      "d\n"
     ]
    }
   ],
   "source": [
    "i=0\n",
    "while i<4:\n",
    "    print(newA[i])\n",
    "    i+=1"
   ]
  },
  {
   "cell_type": "code",
   "execution_count": 19,
   "id": "21325421-9653-4757-b17b-6e24d103885f",
   "metadata": {},
   "outputs": [
    {
     "name": "stdout",
     "output_type": "stream",
     "text": [
      "a\n",
      "b\n",
      "c\n",
      "d\n"
     ]
    }
   ],
   "source": [
    "for i in A:\n",
    "    print(i)"
   ]
  },
  {
   "cell_type": "code",
   "execution_count": 4,
   "id": "92ca7109-bec7-4f86-9a49-62ece6742bd6",
   "metadata": {},
   "outputs": [
    {
     "name": "stdout",
     "output_type": "stream",
     "text": [
      "('f', [1.0, 1.2, 1.3, 1.4, 1.5])\n"
     ]
    }
   ],
   "source": [
    "import array as arr\n",
    "arr=('f',[1.0,1.2,1.3,1.4,1.5])\n",
    "print(arr)"
   ]
  },
  {
   "cell_type": "code",
   "execution_count": 5,
   "id": "066362de-53ca-4747-b96a-fca672837125",
   "metadata": {},
   "outputs": [
    {
     "name": "stdout",
     "output_type": "stream",
     "text": [
      "f\n",
      "[1.0, 1.2, 1.3, 1.4, 1.5]\n"
     ]
    }
   ],
   "source": [
    "for f in arr:\n",
    "    print(f)"
   ]
  },
  {
   "cell_type": "code",
   "execution_count": 6,
   "id": "a68ff578-af10-488d-84de-513542472a1c",
   "metadata": {},
   "outputs": [
    {
     "name": "stdout",
     "output_type": "stream",
     "text": [
      "f\n",
      "[1.0, 1.2, 1.3, 1.4, 1.5]\n"
     ]
    }
   ],
   "source": [
    "i=0\n",
    "while i<len(arr):\n",
    "    print(arr[i])\n",
    "    i+=1"
   ]
  },
  {
   "cell_type": "code",
   "execution_count": null,
   "id": "d05c1639-fc91-48d9-bc07-904d8364a517",
   "metadata": {},
   "outputs": [],
   "source": []
  },
  {
   "cell_type": "code",
   "execution_count": null,
   "id": "4a983a99-684e-4ce9-b472-41ff0e9d4bef",
   "metadata": {},
   "outputs": [],
   "source": []
  },
  {
   "cell_type": "code",
   "execution_count": null,
   "id": "800b95a7-8fe7-4742-9eac-e54759de2a3c",
   "metadata": {},
   "outputs": [],
   "source": []
  }
 ],
 "metadata": {
  "kernelspec": {
   "display_name": "Python 3 (ipykernel)",
   "language": "python",
   "name": "python3"
  },
  "language_info": {
   "codemirror_mode": {
    "name": "ipython",
    "version": 3
   },
   "file_extension": ".py",
   "mimetype": "text/x-python",
   "name": "python",
   "nbconvert_exporter": "python",
   "pygments_lexer": "ipython3",
   "version": "3.11.7"
  }
 },
 "nbformat": 4,
 "nbformat_minor": 5
}
