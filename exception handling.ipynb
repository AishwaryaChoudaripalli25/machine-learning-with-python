{
 "cells": [
  {
   "cell_type": "markdown",
   "id": "32413b1c-bde2-4b73-a19b-8817a7e5e892",
   "metadata": {},
   "source": [
    "### round() function"
   ]
  },
  {
   "cell_type": "code",
   "execution_count": null,
   "id": "335d26a0-4ba2-426c-a04b-c288bf39094e",
   "metadata": {},
   "outputs": [],
   "source": []
  },
  {
   "cell_type": "code",
   "execution_count": 2,
   "id": "8e5d1632-d3a2-44b1-a029-855f1801b3c1",
   "metadata": {},
   "outputs": [
    {
     "name": "stdout",
     "output_type": "stream",
     "text": [
      "7\n",
      "<class 'int'>\n"
     ]
    }
   ],
   "source": [
    "print(round(7,2))\n",
    "aprint(type(round(7,2)))"
   ]
  },
  {
   "cell_type": "code",
   "execution_count": 3,
   "id": "1161ec78-01ef-464a-be39-c22cffec7000",
   "metadata": {},
   "outputs": [
    {
     "name": "stdout",
     "output_type": "stream",
     "text": [
      "7.67\n",
      "<class 'float'>\n"
     ]
    }
   ],
   "source": [
    "print(round(7.666,2))\n",
    "print(type(round(7.666,2)))"
   ]
  },
  {
   "cell_type": "code",
   "execution_count": 4,
   "id": "0a54da8b-a277-4afa-9330-c4e6d32c982a",
   "metadata": {},
   "outputs": [
    {
     "name": "stdout",
     "output_type": "stream",
     "text": [
      "7654\n"
     ]
    }
   ],
   "source": [
    "print(round(7654))"
   ]
  },
  {
   "cell_type": "code",
   "execution_count": 7,
   "id": "5832dc85-1dfb-43ab-a8a3-f96bb6d82b2f",
   "metadata": {},
   "outputs": [
    {
     "name": "stdout",
     "output_type": "stream",
     "text": [
      "7700\n"
     ]
    }
   ],
   "source": [
    "print(round(7654,-2))\n"
   ]
  },
  {
   "cell_type": "code",
   "execution_count": 10,
   "id": "b4d64fe1-5d29-4754-96fa-7faee35577be",
   "metadata": {},
   "outputs": [
    {
     "name": "stdout",
     "output_type": "stream",
     "text": [
      "10000\n"
     ]
    }
   ],
   "source": [
    "print(round(8978,-4))"
   ]
  },
  {
   "cell_type": "code",
   "execution_count": 2,
   "id": "03e4fc94-f8e4-46fd-b192-591e3e52be6b",
   "metadata": {},
   "outputs": [
    {
     "name": "stdout",
     "output_type": "stream",
     "text": [
      "(0, 0, 0, 0, 0, 0, 0, 0, 0)\n",
      "<class 'tuple'>\n"
     ]
    }
   ],
   "source": [
    "game=(0,0,0,\n",
    "      0,0,0,\n",
    "      0,0,0,)\n",
    "print(game)\n",
    "print(type(game))\n"
   ]
  },
  {
   "cell_type": "code",
   "execution_count": 3,
   "id": "ecad2b5c-ff34-4e14-97ed-6744833a5723",
   "metadata": {},
   "outputs": [
    {
     "name": "stdout",
     "output_type": "stream",
     "text": [
      "[0, 0, 0, 0, 0, 0, 0, 0, 0]\n",
      "<class 'list'>\n"
     ]
    }
   ],
   "source": [
    "game=[0,0,0,\n",
    "      0,0,0,\n",
    "      0,0,0]\n",
    "print(game)\n",
    "print(type(game))"
   ]
  },
  {
   "cell_type": "code",
   "execution_count": 4,
   "id": "5c4a14d9-f675-4188-a481-4da03a3ab4c9",
   "metadata": {},
   "outputs": [
    {
     "name": "stdout",
     "output_type": "stream",
     "text": [
      "[[0, 0, 0], [0, 0, 0], [0, 0, 0]]\n",
      "<class 'list'>\n"
     ]
    }
   ],
   "source": [
    "game=[[0,0,0],\n",
    "      [0,0,0],\n",
    "      [0,0,0]]\n",
    "print(game)\n",
    "print(type(game))\n"
   ]
  },
  {
   "cell_type": "code",
   "execution_count": 5,
   "id": "2c029b20-ee75-479b-ab90-f401be4d0919",
   "metadata": {},
   "outputs": [
    {
     "name": "stdout",
     "output_type": "stream",
     "text": [
      "[0, 0, 0]\n",
      "[0, 0, 0]\n",
      "[0, 0, 0]\n"
     ]
    }
   ],
   "source": [
    "for row in game:\n",
    "    print(row)"
   ]
  },
  {
   "cell_type": "code",
   "execution_count": 7,
   "id": "45cd5113-c4e4-4dfa-9148-cd52e00050dd",
   "metadata": {},
   "outputs": [
    {
     "name": "stdout",
     "output_type": "stream",
     "text": [
      "   0  1  2\n",
      "0 [0, 0, 0]\n",
      "1 [0, 0, 0]\n",
      "2 [0, 0, 0]\n"
     ]
    }
   ],
   "source": [
    "print(\"   0  1  2\")\n",
    "count=0\n",
    "for row in game:\n",
    "    print(count, row)\n",
    "    count+=1"
   ]
  },
  {
   "cell_type": "markdown",
   "id": "65e217b8-2a42-4c54-92b4-4066a9e43ba8",
   "metadata": {},
   "source": [
    "### try,except,finally"
   ]
  },
  {
   "cell_type": "code",
   "execution_count": 3,
   "id": "49a7d2eb-9e8d-4278-a5ad-40c7f0131e41",
   "metadata": {},
   "outputs": [
    {
     "name": "stdin",
     "output_type": "stream",
     "text": [
      "enter the number: 6\n"
     ]
    },
    {
     "name": "stdout",
     "output_type": "stream",
     "text": [
      "multiplication table of 6 :\n",
      "6x1=6\n",
      "6x2=12\n",
      "6x3=18\n",
      "6x4=24\n",
      "6x5=30\n",
      "6x6=36\n",
      "6x7=42\n",
      "6x8=48\n",
      "6x9=54\n",
      "6x10=60\n",
      "ending the prgm\n"
     ]
    }
   ],
   "source": [
    "k=int(input(\"enter the number:\"))\n",
    "print(f\"multiplication table of 6 :\")\n",
    "for i in range(1,11):\n",
    "    print(f\"{k}x{i}={k*i}\")\n",
    "print(\"ending the prgm\")\n"
   ]
  },
  {
   "cell_type": "code",
   "execution_count": 4,
   "id": "9e67c532-fdd7-4f70-8e71-38119930e9e4",
   "metadata": {},
   "outputs": [
    {
     "name": "stdin",
     "output_type": "stream",
     "text": [
      "enter the number: aish\n"
     ]
    },
    {
     "ename": "ValueError",
     "evalue": "invalid literal for int() with base 10: 'aish'",
     "output_type": "error",
     "traceback": [
      "\u001b[1;31m---------------------------------------------------------------------------\u001b[0m",
      "\u001b[1;31mValueError\u001b[0m                                Traceback (most recent call last)",
      "Cell \u001b[1;32mIn[4], line 1\u001b[0m\n\u001b[1;32m----> 1\u001b[0m k\u001b[38;5;241m=\u001b[39m\u001b[38;5;28mint\u001b[39m(\u001b[38;5;28minput\u001b[39m(\u001b[38;5;124m\"\u001b[39m\u001b[38;5;124menter the number:\u001b[39m\u001b[38;5;124m\"\u001b[39m))\n\u001b[0;32m      2\u001b[0m \u001b[38;5;28mprint\u001b[39m(\u001b[38;5;124mf\u001b[39m\u001b[38;5;124m\"\u001b[39m\u001b[38;5;124mmultiplication table of 6 :\u001b[39m\u001b[38;5;124m\"\u001b[39m)\n\u001b[0;32m      3\u001b[0m \u001b[38;5;28;01mfor\u001b[39;00m i \u001b[38;5;129;01min\u001b[39;00m \u001b[38;5;28mrange\u001b[39m(\u001b[38;5;241m1\u001b[39m,\u001b[38;5;241m11\u001b[39m):\n",
      "\u001b[1;31mValueError\u001b[0m: invalid literal for int() with base 10: 'aish'"
     ]
    }
   ],
   "source": [
    "k=int(input(\"enter the number:\"))\n",
    "print(f\"multiplication table of 6 :\")\n",
    "for i in range(1,11):\n",
    "    print(f\"{k}x{i}={k*i}\")\n",
    "print(\"ending the prgm\")\n"
   ]
  },
  {
   "cell_type": "code",
   "execution_count": 8,
   "id": "6842e856-0e44-4d45-b45f-372e26671bfe",
   "metadata": {},
   "outputs": [
    {
     "name": "stdin",
     "output_type": "stream",
     "text": [
      "enter the number: kkk\n"
     ]
    },
    {
     "name": "stdout",
     "output_type": "stream",
     "text": [
      "multiplication table :\n",
      "invalid input!!!\n",
      "ending the prgm\n"
     ]
    }
   ],
   "source": [
    "k=input(\"enter the number:\")\n",
    "print(f\"multiplication table :\")\n",
    "try:\n",
    "    for i in range(1,11):  \n",
    "        print(f\"{int(k)}x{i}={k*i}\")\n",
    "except:\n",
    "    print(\"invalid input!!!\")\n",
    "print(\"ending the prgm\")\n"
   ]
  },
  {
   "cell_type": "code",
   "execution_count": 10,
   "id": "9cf2e1d1-1d05-4965-985f-78d2123b2ce8",
   "metadata": {},
   "outputs": [
    {
     "name": "stdin",
     "output_type": "stream",
     "text": [
      "enter the number: 7.9\n"
     ]
    },
    {
     "name": "stdout",
     "output_type": "stream",
     "text": [
      "multiplication table of 6 :\n",
      "input value doesnot belongs to integer data type.\n",
      "ending the prgm\n"
     ]
    }
   ],
   "source": [
    "k=input(\"enter the number:\")\n",
    "print(f\"multiplication table of 6 :\")\n",
    "try:\n",
    "    for i in range(1,11):\n",
    "        print(f\"{int(k)}x{i}={k*i}\")\n",
    "except ValueError:\n",
    "    print(\"input value doesnot belongs to integer data type.\")\n",
    "except IndexError:\n",
    "    print(\"sorry,it is an index error!!!\")\n",
    "print(\"ending the prgm\")\n"
   ]
  },
  {
   "cell_type": "code",
   "execution_count": 12,
   "id": "5853cdcf-41b7-4e49-9d1a-5598485711d3",
   "metadata": {},
   "outputs": [
    {
     "name": "stdin",
     "output_type": "stream",
     "text": [
      "enter the number 77\n"
     ]
    },
    {
     "name": "stdout",
     "output_type": "stream",
     "text": [
      "It is an index error!!!!\n"
     ]
    }
   ],
   "source": [
    "try:\n",
    "    num=int(input('enter the number'))\n",
    "    a=[4,56,6,7,87]\n",
    "    print(a[num])\n",
    "except ValueError:\n",
    "    print(\"num entered is not integer data types\")\n",
    "except IndexError:\n",
    "    print(\"It is an index error!!!!\")\n",
    "            "
   ]
  },
  {
   "cell_type": "code",
   "execution_count": 13,
   "id": "b731628b-7686-4521-a385-1c852500d3d8",
   "metadata": {},
   "outputs": [
    {
     "name": "stdin",
     "output_type": "stream",
     "text": [
      "enter the number 89\n"
     ]
    },
    {
     "name": "stdout",
     "output_type": "stream",
     "text": [
      "It is an index error!!!!\n",
      "end of the program\n"
     ]
    }
   ],
   "source": [
    "try:\n",
    "    num=int(input('enter the number'))\n",
    "    a=[4,56,6,7,87]\n",
    "    print(a[num])\n",
    "except ValueError:\n",
    "    print(\"num entered is not integer data types\")\n",
    "except IndexError:\n",
    "    print(\"It is an index error!!!!\")\n",
    "finally:\n",
    "    print(\"end of the program\")"
   ]
  },
  {
   "cell_type": "code",
   "execution_count": 1,
   "id": "7df52569-beac-493a-ac74-8cf80b375a62",
   "metadata": {},
   "outputs": [
    {
     "name": "stdout",
     "output_type": "stream",
     "text": [
      "7aishu1\n"
     ]
    }
   ],
   "source": [
    "print(7,1,sep='aishu')"
   ]
  },
  {
   "cell_type": "code",
   "execution_count": null,
   "id": "ea185323-49e8-4feb-aa2f-19d5fe304412",
   "metadata": {},
   "outputs": [],
   "source": []
  },
  {
   "cell_type": "code",
   "execution_count": null,
   "id": "ae2e44db-54c7-40b8-88f4-baa1e43de18c",
   "metadata": {},
   "outputs": [],
   "source": []
  },
  {
   "cell_type": "code",
   "execution_count": null,
   "id": "70fc99f6-eb6f-4e81-b900-7cbae26ba334",
   "metadata": {},
   "outputs": [],
   "source": []
  },
  {
   "cell_type": "code",
   "execution_count": null,
   "id": "37f223a5-ec15-4884-a33a-539f0245dc4a",
   "metadata": {},
   "outputs": [],
   "source": []
  },
  {
   "cell_type": "code",
   "execution_count": null,
   "id": "f63d72ae-ed28-4b68-930e-78c48269dfc0",
   "metadata": {},
   "outputs": [],
   "source": []
  },
  {
   "cell_type": "code",
   "execution_count": null,
   "id": "052f05de-4ffb-48de-9a60-7ad95a6a135f",
   "metadata": {},
   "outputs": [],
   "source": []
  },
  {
   "cell_type": "code",
   "execution_count": null,
   "id": "1fe0c307-70f1-422a-9892-d6c3c5967a42",
   "metadata": {},
   "outputs": [],
   "source": []
  },
  {
   "cell_type": "code",
   "execution_count": null,
   "id": "cd73467f-fe67-4590-8e2e-5e348b1b7556",
   "metadata": {},
   "outputs": [],
   "source": []
  }
 ],
 "metadata": {
  "kernelspec": {
   "display_name": "Python 3 (ipykernel)",
   "language": "python",
   "name": "python3"
  },
  "language_info": {
   "codemirror_mode": {
    "name": "ipython",
    "version": 3
   },
   "file_extension": ".py",
   "mimetype": "text/x-python",
   "name": "python",
   "nbconvert_exporter": "python",
   "pygments_lexer": "ipython3",
   "version": "3.11.7"
  }
 },
 "nbformat": 4,
 "nbformat_minor": 5
}
