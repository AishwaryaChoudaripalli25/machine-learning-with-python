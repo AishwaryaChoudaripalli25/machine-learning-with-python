{
 "cells": [
  {
   "cell_type": "markdown",
   "id": "9a734f97-990d-4f42-9b43-ad0997f4c38f",
   "metadata": {},
   "source": [
    "## matrices\n"
   ]
  },
  {
   "cell_type": "code",
   "execution_count": 1,
   "id": "fbef8252-3f31-4867-a062-fe510a64d556",
   "metadata": {},
   "outputs": [
    {
     "name": "stdout",
     "output_type": "stream",
     "text": [
      "int32\n"
     ]
    }
   ],
   "source": [
    "from numpy import*\n",
    "a=array([\n",
    "    [1,2,3],\n",
    "    [6,5,4],\n",
    "    [9,8,7]\n",
    "])\n",
    "print(a.dtype)\n"
   ]
  },
  {
   "cell_type": "code",
   "execution_count": 2,
   "id": "d56a92e3-b564-43b0-8f78-ecbcbe131677",
   "metadata": {},
   "outputs": [
    {
     "name": "stdout",
     "output_type": "stream",
     "text": [
      "(3, 3)\n"
     ]
    }
   ],
   "source": [
    "print(a.shape)"
   ]
  },
  {
   "cell_type": "code",
   "execution_count": 3,
   "id": "e51100eb-2235-4f16-b81f-8b5e0042f69c",
   "metadata": {},
   "outputs": [
    {
     "name": "stdout",
     "output_type": "stream",
     "text": [
      "2\n"
     ]
    }
   ],
   "source": [
    "print(a.ndim)\n"
   ]
  },
  {
   "cell_type": "code",
   "execution_count": 5,
   "id": "d02fe844-743c-497a-831b-09c787423c34",
   "metadata": {},
   "outputs": [
    {
     "name": "stdout",
     "output_type": "stream",
     "text": [
      "[[ 1  3  5  7]\n",
      " [ 9 11  0  2]\n",
      " [ 4  6  8 10]]\n"
     ]
    }
   ],
   "source": [
    "a1=array([\n",
    "    [1,3,5,7,9,11],\n",
    "    [0,2,4,6,8,10]\n",
    "])\n",
    "a2=a1.flatten()\n",
    "a3=a2.reshape(3,4)\n",
    "print(a3)\n",
    "    "
   ]
  },
  {
   "cell_type": "code",
   "execution_count": 6,
   "id": "5fd5ed1b-2814-4854-a81a-1e7a11bb492c",
   "metadata": {},
   "outputs": [
    {
     "name": "stdout",
     "output_type": "stream",
     "text": [
      "[[[ 1  3  5]\n",
      "  [ 7  9 11]]\n",
      "\n",
      " [[ 0  2  4]\n",
      "  [ 6  8 10]]]\n"
     ]
    }
   ],
   "source": [
    "a4=a2.reshape(2,2,3)\n",
    "print(a4)"
   ]
  },
  {
   "cell_type": "code",
   "execution_count": 7,
   "id": "790f036a-3afe-433f-a5bd-19f2f937a039",
   "metadata": {},
   "outputs": [
    {
     "name": "stdout",
     "output_type": "stream",
     "text": [
      "[[1 3]\n",
      " [5 7]\n",
      " [0 2]\n",
      " [4 6]]\n"
     ]
    }
   ],
   "source": [
    "m=matrix('1,3 ; 5,7; 0,2 ; 4,6')\n",
    "print(m)"
   ]
  },
  {
   "cell_type": "code",
   "execution_count": 8,
   "id": "f2a780f0-2d86-4207-9137-d6970c8e929a",
   "metadata": {},
   "outputs": [
    {
     "name": "stdout",
     "output_type": "stream",
     "text": [
      "[1 7]\n"
     ]
    }
   ],
   "source": [
    "print(diagonal(m))"
   ]
  },
  {
   "cell_type": "code",
   "execution_count": 9,
   "id": "2e27df60-a90d-4825-a8ad-9635825a0198",
   "metadata": {},
   "outputs": [
    {
     "name": "stdout",
     "output_type": "stream",
     "text": [
      "7\n"
     ]
    }
   ],
   "source": [
    "print(m.max())"
   ]
  },
  {
   "cell_type": "code",
   "execution_count": 10,
   "id": "b0ca284d-2ede-4ab6-921d-2491785d84e0",
   "metadata": {},
   "outputs": [
    {
     "name": "stdout",
     "output_type": "stream",
     "text": [
      "0\n"
     ]
    }
   ],
   "source": [
    "print(m.min())"
   ]
  },
  {
   "cell_type": "markdown",
   "id": "f98945d3-cbe7-4425-a1ad-47c84fe15ba3",
   "metadata": {},
   "source": [
    "## *kwargs"
   ]
  },
  {
   "cell_type": "code",
   "execution_count": 13,
   "id": "604fdf0b-81ea-457b-a1ff-d228c2fee21a",
   "metadata": {},
   "outputs": [
    {
     "name": "stdout",
     "output_type": "stream",
     "text": [
      "Aishu\n",
      "(20, 'II-btech', 'csm')\n"
     ]
    }
   ],
   "source": [
    "def student(name,*data):\n",
    "    print(name)\n",
    "    print(data)\n",
    "student('Aishu',20,'II-btech','csm')"
   ]
  },
  {
   "cell_type": "code",
   "execution_count": 4,
   "id": "0dec0f2b-9274-4102-a870-f25af0fb83a5",
   "metadata": {},
   "outputs": [
    {
     "ename": "TypeError",
     "evalue": "student() got an unexpected keyword argument 'age'",
     "output_type": "error",
     "traceback": [
      "\u001b[1;31m---------------------------------------------------------------------------\u001b[0m",
      "\u001b[1;31mTypeError\u001b[0m                                 Traceback (most recent call last)",
      "Cell \u001b[1;32mIn[4], line 4\u001b[0m\n\u001b[0;32m      2\u001b[0m     \u001b[38;5;28mprint\u001b[39m(name)\n\u001b[0;32m      3\u001b[0m     \u001b[38;5;28mprint\u001b[39m(data)\n\u001b[1;32m----> 4\u001b[0m student(\u001b[38;5;124m'\u001b[39m\u001b[38;5;124mnam\u001b[39m\u001b[38;5;124m'\u001b[39m,age\u001b[38;5;241m=\u001b[39m\u001b[38;5;241m20\u001b[39m,city\u001b[38;5;241m=\u001b[39m\u001b[38;5;124m'\u001b[39m\u001b[38;5;124mhyderabad\u001b[39m\u001b[38;5;124m'\u001b[39m,clg\u001b[38;5;241m=\u001b[39m\u001b[38;5;124m'\u001b[39m\u001b[38;5;124mjbiet\u001b[39m\u001b[38;5;124m'\u001b[39m,branch\u001b[38;5;241m=\u001b[39m\u001b[38;5;124m'\u001b[39m\u001b[38;5;124mcsm\u001b[39m\u001b[38;5;124m'\u001b[39m)\n",
      "\u001b[1;31mTypeError\u001b[0m: student() got an unexpected keyword argument 'age'"
     ]
    }
   ],
   "source": [
    "def student(name,*data):\n",
    "    print(name)\n",
    "    print(data)\n",
    "student('nam',age=20,city='hyderabad',clg='jbiet',branch='csm')"
   ]
  },
  {
   "cell_type": "code",
   "execution_count": 6,
   "id": "45a127c7-747c-4883-83be-34882dba2816",
   "metadata": {},
   "outputs": [
    {
     "name": "stdout",
     "output_type": "stream",
     "text": [
      "swa\n",
      "{'age': 19, 'clg': 'jbiet', 'rollno': 23, 'branch': 'csm'}\n"
     ]
    }
   ],
   "source": [
    "def student(name,**data):\n",
    "    print(name)\n",
    "    print(data)\n",
    "student('swa',age=19,clg='jbiet',rollno=23,branch='csm')"
   ]
  },
  {
   "cell_type": "code",
   "execution_count": 7,
   "id": "77679585-c7f8-46ec-91ef-91ef7280a511",
   "metadata": {},
   "outputs": [
    {
     "name": "stdout",
     "output_type": "stream",
     "text": [
      "sravs\n",
      "age 20\n",
      "branch cse\n",
      "city warangal\n",
      "rollno 64\n"
     ]
    }
   ],
   "source": [
    "def student(name,**data):\n",
    "    print(name)\n",
    "    for i,j in data.items():\n",
    "        print(i,j)\n",
    "student('sravs',age=20,branch='cse',city='warangal',rollno=64)"
   ]
  },
  {
   "cell_type": "markdown",
   "id": "46106b27-3521-41fc-9ad2-e9c4e52d29ce",
   "metadata": {},
   "source": [
    "## global vs local var"
   ]
  },
  {
   "cell_type": "code",
   "execution_count": 8,
   "id": "65f22f65-b2bd-4d16-9bfc-f61b106c7201",
   "metadata": {},
   "outputs": [
    {
     "name": "stdout",
     "output_type": "stream",
     "text": [
      "20\n",
      "18\n"
     ]
    }
   ],
   "source": [
    "x=18\n",
    "def func():\n",
    "    x=20\n",
    "    print(x)\n",
    "func()\n",
    "print(x)"
   ]
  },
  {
   "cell_type": "code",
   "execution_count": 9,
   "id": "7ad38795-ebd2-48ef-b7a5-f7228fb3f23f",
   "metadata": {},
   "outputs": [
    {
     "name": "stdout",
     "output_type": "stream",
     "text": [
      "20\n",
      "20\n"
     ]
    }
   ],
   "source": [
    "x=20\n",
    "def func():\n",
    "   print(x)\n",
    "func()\n",
    "print(x)"
   ]
  },
  {
   "cell_type": "code",
   "execution_count": 11,
   "id": "8572b57d-0e8f-4756-9b32-dfbc6e847725",
   "metadata": {},
   "outputs": [
    {
     "name": "stdout",
     "output_type": "stream",
     "text": [
      "local 20\n",
      "global 20\n"
     ]
    }
   ],
   "source": [
    "x=35\n",
    "def func():\n",
    "    global x\n",
    "    x=20\n",
    "    print('local',x)\n",
    "func()\n",
    "print('global',x)"
   ]
  },
  {
   "cell_type": "code",
   "execution_count": 19,
   "id": "16b3945d-5354-4e31-b319-36fae3d317f3",
   "metadata": {},
   "outputs": [
    {
     "name": "stdout",
     "output_type": "stream",
     "text": [
      "140704483886792\n",
      "140704483886792\n",
      "20\n",
      "40\n"
     ]
    }
   ],
   "source": [
    "b=30\n",
    "print(id(b))\n",
    "def func():\n",
    "    b=20\n",
    "    x=globals()['b']\n",
    "    print(id(x))\n",
    "    print(b)\n",
    "    globals()['b']=40\n",
    "func()\n",
    "print(b)"
   ]
  },
  {
   "cell_type": "code",
   "execution_count": 1,
   "id": "f93e70bd-5913-4253-a58e-bcd09021ec51",
   "metadata": {},
   "outputs": [
    {
     "name": "stdout",
     "output_type": "stream",
     "text": [
      "even=5,odd=4\n"
     ]
    }
   ],
   "source": [
    "def count(lst):\n",
    "    even=0\n",
    "    odd=0\n",
    "    for i in lst:\n",
    "        if i%2==0:\n",
    "            even+=1\n",
    "        else:\n",
    "            odd+=1\n",
    "    return even,odd\n",
    "lst=[10,11,12,13,14,15,16,17,18]\n",
    "even,odd=count(lst)\n",
    "print(\"even={},odd={}\".format(even,odd))"
   ]
  },
  {
   "cell_type": "markdown",
   "id": "c05128c2-b765-4e70-9a11-88d31a57bed1",
   "metadata": {},
   "source": [
    "## fibonacci sequence"
   ]
  },
  {
   "cell_type": "code",
   "execution_count": 11,
   "id": "b683e011-70fb-4464-9d0d-cf5d71d24849",
   "metadata": {},
   "outputs": [],
   "source": [
    "def fibo(x):\n",
    "    firstnum=0\n",
    "    secondnum=1\n",
    "    print(firstnum)\n",
    "    print(secondnum)\n",
    "    for i in range(2,x):\n",
    "        thirdnum=firstnum+secondnum\n",
    "        firstnum=secondnum\n",
    "        secondnum=thirdnum\n",
    "        print(thirdnum)"
   ]
  },
  {
   "cell_type": "code",
   "execution_count": 12,
   "id": "733c9abc-184f-48ab-847c-6e306ec12290",
   "metadata": {},
   "outputs": [
    {
     "name": "stdout",
     "output_type": "stream",
     "text": [
      "0\n",
      "1\n",
      "1\n",
      "2\n",
      "3\n",
      "5\n"
     ]
    }
   ],
   "source": [
    "fibo(6)"
   ]
  },
  {
   "cell_type": "code",
   "execution_count": 7,
   "id": "baf26c58-2c4f-4d66-beec-2f1382641141",
   "metadata": {},
   "outputs": [],
   "source": [
    "def fibo(n):\n",
    "    a=0\n",
    "    b=1\n",
    "    print(a)\n",
    "    print(b)\n",
    "    for i in range(2,n):\n",
    "        c=a+b\n",
    "        a=b\n",
    "        b=c\n",
    "        print(c)"
   ]
  },
  {
   "cell_type": "code",
   "execution_count": 8,
   "id": "ce98bc43-b4d2-4856-8c38-eb0843399d61",
   "metadata": {},
   "outputs": [
    {
     "name": "stdout",
     "output_type": "stream",
     "text": [
      "0\n",
      "1\n",
      "1\n",
      "2\n",
      "3\n",
      "5\n"
     ]
    }
   ],
   "source": [
    "fibo(6)"
   ]
  },
  {
   "cell_type": "code",
   "execution_count": 81,
   "id": "ae647f0f-7db7-40f6-9ca2-782b426be176",
   "metadata": {},
   "outputs": [],
   "source": [
    "def fibo(n):\n",
    "    a=0\n",
    "    b=1\n",
    "    if n==1:\n",
    "        print(a)\n",
    "    else:\n",
    "        print(a)\n",
    "        print(b)\n",
    "        for i in range(2,n):\n",
    "            c=a+b\n",
    "            a=b\n",
    "            b=c\n",
    "            print(c)\n",
    "            if b>=80:\n",
    "                break"
   ]
  },
  {
   "cell_type": "code",
   "execution_count": 82,
   "id": "bb31d03d-5fbf-4788-adec-c4322e6982c0",
   "metadata": {},
   "outputs": [
    {
     "name": "stdout",
     "output_type": "stream",
     "text": [
      "0\n"
     ]
    }
   ],
   "source": [
    "fibo(1)"
   ]
  },
  {
   "cell_type": "code",
   "execution_count": 83,
   "id": "77a2dfd2-d4f6-4b7b-b2ef-b559be255edf",
   "metadata": {},
   "outputs": [
    {
     "name": "stdout",
     "output_type": "stream",
     "text": [
      "0\n",
      "1\n",
      "1\n",
      "2\n",
      "3\n",
      "5\n",
      "8\n",
      "13\n",
      "21\n",
      "34\n",
      "55\n",
      "89\n"
     ]
    }
   ],
   "source": [
    "fibo(20)"
   ]
  },
  {
   "cell_type": "code",
   "execution_count": null,
   "id": "6dc41e79-87f8-4073-85a5-391bae3580f2",
   "metadata": {},
   "outputs": [],
   "source": []
  }
 ],
 "metadata": {
  "kernelspec": {
   "display_name": "Python 3 (ipykernel)",
   "language": "python",
   "name": "python3"
  },
  "language_info": {
   "codemirror_mode": {
    "name": "ipython",
    "version": 3
   },
   "file_extension": ".py",
   "mimetype": "text/x-python",
   "name": "python",
   "nbconvert_exporter": "python",
   "pygments_lexer": "ipython3",
   "version": "3.11.7"
  }
 },
 "nbformat": 4,
 "nbformat_minor": 5
}
